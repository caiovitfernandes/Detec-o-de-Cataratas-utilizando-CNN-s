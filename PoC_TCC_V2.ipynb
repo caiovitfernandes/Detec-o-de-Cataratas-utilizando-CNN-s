{
  "nbformat": 4,
  "nbformat_minor": 0,
  "metadata": {
    "colab": {
      "provenance": [],
      "toc_visible": true,
      "gpuType": "T4",
      "authorship_tag": "ABX9TyPVe0Q66yc7ZjztnbROvciL",
      "include_colab_link": true
    },
    "kernelspec": {
      "name": "python3",
      "display_name": "Python 3"
    },
    "language_info": {
      "name": "python"
    },
    "accelerator": "GPU"
  },
  "cells": [
    {
      "cell_type": "markdown",
      "metadata": {
        "id": "view-in-github",
        "colab_type": "text"
      },
      "source": [
        "<a href=\"https://colab.research.google.com/github/caiovitfernandes/Detec-o-de-Cataratas-utilizando-CNN-s/blob/main/PoC_TCC_V2.ipynb\" target=\"_parent\"><img src=\"https://colab.research.google.com/assets/colab-badge.svg\" alt=\"Open In Colab\"/></a>"
      ]
    },
    {
      "cell_type": "markdown",
      "source": [
        "## Prova de conceito (PoC) para o TCC de Sistemas de Informação: Análise comparativa de arquiteturas de redes neurais para detecção de cataratas em imagens clínicas, com ênfase na redução de falsos negativos\n",
        "* **Objetivo:** Esta prova de conceito tem por objetivo validar a complexidade técnica de se implementar uma rede neural convolucional para realização da tarefa de detecção de cataratas através de transfer learning. Servirá para análise do aluno acerca da viabilidade da execução da parte prática do TCC no tempo disponível para tal. Além disso, a PoC tem por objetivo criar uma baseline (ou um código base) para implementação futura no TCC.\n",
        "* **Aluno:** Caio Vitor Souza Fernandes\n",
        "* **Semestre/Ano:** 2/2025\n",
        "* **Versão:** 2.0"
      ],
      "metadata": {
        "id": "30Pggz1Pe41e"
      }
    },
    {
      "cell_type": "markdown",
      "source": [
        "## Configuração do ambiente de execução"
      ],
      "metadata": {
        "id": "la9Kyo_Ve7D1"
      }
    },
    {
      "cell_type": "markdown",
      "source": [
        "### Instalação do Kaggle"
      ],
      "metadata": {
        "id": "rZovM85afnn3"
      }
    },
    {
      "cell_type": "code",
      "source": [
        "!pip install Kaggle"
      ],
      "metadata": {
        "colab": {
          "base_uri": "https://localhost:8080/"
        },
        "collapsed": true,
        "id": "cC-ZDRKlfp0v",
        "outputId": "14a3e6ac-c3d0-4914-9754-a546e54ce13a"
      },
      "execution_count": null,
      "outputs": [
        {
          "output_type": "stream",
          "name": "stdout",
          "text": [
            "Requirement already satisfied: Kaggle in /usr/local/lib/python3.12/dist-packages (1.7.4.5)\n",
            "Requirement already satisfied: bleach in /usr/local/lib/python3.12/dist-packages (from Kaggle) (6.2.0)\n",
            "Requirement already satisfied: certifi>=14.05.14 in /usr/local/lib/python3.12/dist-packages (from Kaggle) (2025.8.3)\n",
            "Requirement already satisfied: charset-normalizer in /usr/local/lib/python3.12/dist-packages (from Kaggle) (3.4.3)\n",
            "Requirement already satisfied: idna in /usr/local/lib/python3.12/dist-packages (from Kaggle) (3.10)\n",
            "Requirement already satisfied: protobuf in /usr/local/lib/python3.12/dist-packages (from Kaggle) (5.29.5)\n",
            "Requirement already satisfied: python-dateutil>=2.5.3 in /usr/local/lib/python3.12/dist-packages (from Kaggle) (2.9.0.post0)\n",
            "Requirement already satisfied: python-slugify in /usr/local/lib/python3.12/dist-packages (from Kaggle) (8.0.4)\n",
            "Requirement already satisfied: requests in /usr/local/lib/python3.12/dist-packages (from Kaggle) (2.32.4)\n",
            "Requirement already satisfied: setuptools>=21.0.0 in /usr/local/lib/python3.12/dist-packages (from Kaggle) (75.2.0)\n",
            "Requirement already satisfied: six>=1.10 in /usr/local/lib/python3.12/dist-packages (from Kaggle) (1.17.0)\n",
            "Requirement already satisfied: text-unidecode in /usr/local/lib/python3.12/dist-packages (from Kaggle) (1.3)\n",
            "Requirement already satisfied: tqdm in /usr/local/lib/python3.12/dist-packages (from Kaggle) (4.67.1)\n",
            "Requirement already satisfied: urllib3>=1.15.1 in /usr/local/lib/python3.12/dist-packages (from Kaggle) (2.5.0)\n",
            "Requirement already satisfied: webencodings in /usr/local/lib/python3.12/dist-packages (from Kaggle) (0.5.1)\n"
          ]
        }
      ]
    },
    {
      "cell_type": "markdown",
      "source": [
        "### Importação das bibliotecas necessárias"
      ],
      "metadata": {
        "id": "4EZt8EB-f-7d"
      }
    },
    {
      "cell_type": "code",
      "source": [
        "# Ambiente de execução\n",
        "import os       # para trabalhar com o sistema operacional\n",
        "import shutil   # para mover e copiar arquivos e pastas\n",
        "import random   # para gerar números aleatórios na divisão de dados\n",
        "from google.colab import files # para trabalhar com arquivos no google.colab\n",
        "\n",
        "# Machine Learning\n",
        "import tensorflow as tf\n",
        "from tensorflow import keras\n",
        "from tensorflow.keras.preprocessing.image import ImageDataGenerator\n",
        "from tensorflow.keras.applications import VGG16\n",
        "from tensorflow.keras import layers\n",
        "from tensorflow.keras.layers import Dense, Dropout, GlobalAveragePooling2D\n",
        "from tensorflow.keras.models import Model\n",
        "from tensorflow.keras.callbacks import EarlyStopping, ReduceLROnPlateau, ModelCheckpoint\n",
        "\n",
        "# Métricas de ML\n",
        "from sklearn.metrics import confusion_matrix, accuracy_score, precision_score, recall_score, f1_score, classification_report\n",
        "\n",
        "# Representação gráfica\n",
        "import matplotlib.pyplot as plt # para plotar gráficos\n",
        "import seaborn as sns"
      ],
      "metadata": {
        "id": "Ee7p0eZugB0B"
      },
      "execution_count": null,
      "outputs": []
    },
    {
      "cell_type": "markdown",
      "source": [
        "### Verificando a GPU que está disponível"
      ],
      "metadata": {
        "id": "QxZG8NethyI_"
      }
    },
    {
      "cell_type": "code",
      "source": [
        "print(f\"GPU disponível no ambiente: {tf.config.list_physical_devices('GPU')}\")"
      ],
      "metadata": {
        "colab": {
          "base_uri": "https://localhost:8080/"
        },
        "id": "ZOjCYtFWh1ou",
        "outputId": "d50391c1-25c5-4ff5-d8e7-27129c15b6ac"
      },
      "execution_count": null,
      "outputs": [
        {
          "output_type": "stream",
          "name": "stdout",
          "text": [
            "GPU disponível no ambiente: [PhysicalDevice(name='/physical_device:GPU:0', device_type='GPU')]\n"
          ]
        }
      ]
    },
    {
      "cell_type": "markdown",
      "source": [
        "### Setando a seed a ser usada no random para garantir a reprodutibilidade"
      ],
      "metadata": {
        "id": "avtG_rQ6iRSo"
      }
    },
    {
      "cell_type": "code",
      "source": [
        "random.seed(100)"
      ],
      "metadata": {
        "id": "hlT-R-CQiXuo"
      },
      "execution_count": null,
      "outputs": []
    },
    {
      "cell_type": "markdown",
      "source": [
        "## Download e acomodação do dataset"
      ],
      "metadata": {
        "id": "sBLCV9bse_Jd"
      }
    },
    {
      "cell_type": "markdown",
      "source": [
        "### Subindo a chave de API do Kaggle\n",
        "\n"
      ],
      "metadata": {
        "id": "Gl5gS1mqi1pp"
      }
    },
    {
      "cell_type": "code",
      "source": [
        "files.upload() # Abre uma caixa para que eu suba o arquivo\n",
        "!mkdir -p ~/.kaggle # Cria uma pasta ~/.kaggle\n",
        "!cp kaggle.json ~/.kaggle/ # Move o arquivo kaggle.json para a pasta ~/.kaggle\n",
        "!chmod 600 ~/.kaggle/kaggle.json # Define as permissões do arquivo kaggle.json para 600 (isso quer dizer que só eu posso ler e escrever no arquivo)"
      ],
      "metadata": {
        "colab": {
          "base_uri": "https://localhost:8080/",
          "height": 71
        },
        "id": "ZBPxOhuUjCn2",
        "outputId": "b87c9427-aefb-4336-8993-f226d2d6c7a7"
      },
      "execution_count": null,
      "outputs": [
        {
          "output_type": "display_data",
          "data": {
            "text/plain": [
              "<IPython.core.display.HTML object>"
            ],
            "text/html": [
              "\n",
              "     <input type=\"file\" id=\"files-2f796f38-d111-48b2-9c84-1f243c847402\" name=\"files[]\" multiple disabled\n",
              "        style=\"border:none\" />\n",
              "     <output id=\"result-2f796f38-d111-48b2-9c84-1f243c847402\">\n",
              "      Upload widget is only available when the cell has been executed in the\n",
              "      current browser session. Please rerun this cell to enable.\n",
              "      </output>\n",
              "      <script>// Copyright 2017 Google LLC\n",
              "//\n",
              "// Licensed under the Apache License, Version 2.0 (the \"License\");\n",
              "// you may not use this file except in compliance with the License.\n",
              "// You may obtain a copy of the License at\n",
              "//\n",
              "//      http://www.apache.org/licenses/LICENSE-2.0\n",
              "//\n",
              "// Unless required by applicable law or agreed to in writing, software\n",
              "// distributed under the License is distributed on an \"AS IS\" BASIS,\n",
              "// WITHOUT WARRANTIES OR CONDITIONS OF ANY KIND, either express or implied.\n",
              "// See the License for the specific language governing permissions and\n",
              "// limitations under the License.\n",
              "\n",
              "/**\n",
              " * @fileoverview Helpers for google.colab Python module.\n",
              " */\n",
              "(function(scope) {\n",
              "function span(text, styleAttributes = {}) {\n",
              "  const element = document.createElement('span');\n",
              "  element.textContent = text;\n",
              "  for (const key of Object.keys(styleAttributes)) {\n",
              "    element.style[key] = styleAttributes[key];\n",
              "  }\n",
              "  return element;\n",
              "}\n",
              "\n",
              "// Max number of bytes which will be uploaded at a time.\n",
              "const MAX_PAYLOAD_SIZE = 100 * 1024;\n",
              "\n",
              "function _uploadFiles(inputId, outputId) {\n",
              "  const steps = uploadFilesStep(inputId, outputId);\n",
              "  const outputElement = document.getElementById(outputId);\n",
              "  // Cache steps on the outputElement to make it available for the next call\n",
              "  // to uploadFilesContinue from Python.\n",
              "  outputElement.steps = steps;\n",
              "\n",
              "  return _uploadFilesContinue(outputId);\n",
              "}\n",
              "\n",
              "// This is roughly an async generator (not supported in the browser yet),\n",
              "// where there are multiple asynchronous steps and the Python side is going\n",
              "// to poll for completion of each step.\n",
              "// This uses a Promise to block the python side on completion of each step,\n",
              "// then passes the result of the previous step as the input to the next step.\n",
              "function _uploadFilesContinue(outputId) {\n",
              "  const outputElement = document.getElementById(outputId);\n",
              "  const steps = outputElement.steps;\n",
              "\n",
              "  const next = steps.next(outputElement.lastPromiseValue);\n",
              "  return Promise.resolve(next.value.promise).then((value) => {\n",
              "    // Cache the last promise value to make it available to the next\n",
              "    // step of the generator.\n",
              "    outputElement.lastPromiseValue = value;\n",
              "    return next.value.response;\n",
              "  });\n",
              "}\n",
              "\n",
              "/**\n",
              " * Generator function which is called between each async step of the upload\n",
              " * process.\n",
              " * @param {string} inputId Element ID of the input file picker element.\n",
              " * @param {string} outputId Element ID of the output display.\n",
              " * @return {!Iterable<!Object>} Iterable of next steps.\n",
              " */\n",
              "function* uploadFilesStep(inputId, outputId) {\n",
              "  const inputElement = document.getElementById(inputId);\n",
              "  inputElement.disabled = false;\n",
              "\n",
              "  const outputElement = document.getElementById(outputId);\n",
              "  outputElement.innerHTML = '';\n",
              "\n",
              "  const pickedPromise = new Promise((resolve) => {\n",
              "    inputElement.addEventListener('change', (e) => {\n",
              "      resolve(e.target.files);\n",
              "    });\n",
              "  });\n",
              "\n",
              "  const cancel = document.createElement('button');\n",
              "  inputElement.parentElement.appendChild(cancel);\n",
              "  cancel.textContent = 'Cancel upload';\n",
              "  const cancelPromise = new Promise((resolve) => {\n",
              "    cancel.onclick = () => {\n",
              "      resolve(null);\n",
              "    };\n",
              "  });\n",
              "\n",
              "  // Wait for the user to pick the files.\n",
              "  const files = yield {\n",
              "    promise: Promise.race([pickedPromise, cancelPromise]),\n",
              "    response: {\n",
              "      action: 'starting',\n",
              "    }\n",
              "  };\n",
              "\n",
              "  cancel.remove();\n",
              "\n",
              "  // Disable the input element since further picks are not allowed.\n",
              "  inputElement.disabled = true;\n",
              "\n",
              "  if (!files) {\n",
              "    return {\n",
              "      response: {\n",
              "        action: 'complete',\n",
              "      }\n",
              "    };\n",
              "  }\n",
              "\n",
              "  for (const file of files) {\n",
              "    const li = document.createElement('li');\n",
              "    li.append(span(file.name, {fontWeight: 'bold'}));\n",
              "    li.append(span(\n",
              "        `(${file.type || 'n/a'}) - ${file.size} bytes, ` +\n",
              "        `last modified: ${\n",
              "            file.lastModifiedDate ? file.lastModifiedDate.toLocaleDateString() :\n",
              "                                    'n/a'} - `));\n",
              "    const percent = span('0% done');\n",
              "    li.appendChild(percent);\n",
              "\n",
              "    outputElement.appendChild(li);\n",
              "\n",
              "    const fileDataPromise = new Promise((resolve) => {\n",
              "      const reader = new FileReader();\n",
              "      reader.onload = (e) => {\n",
              "        resolve(e.target.result);\n",
              "      };\n",
              "      reader.readAsArrayBuffer(file);\n",
              "    });\n",
              "    // Wait for the data to be ready.\n",
              "    let fileData = yield {\n",
              "      promise: fileDataPromise,\n",
              "      response: {\n",
              "        action: 'continue',\n",
              "      }\n",
              "    };\n",
              "\n",
              "    // Use a chunked sending to avoid message size limits. See b/62115660.\n",
              "    let position = 0;\n",
              "    do {\n",
              "      const length = Math.min(fileData.byteLength - position, MAX_PAYLOAD_SIZE);\n",
              "      const chunk = new Uint8Array(fileData, position, length);\n",
              "      position += length;\n",
              "\n",
              "      const base64 = btoa(String.fromCharCode.apply(null, chunk));\n",
              "      yield {\n",
              "        response: {\n",
              "          action: 'append',\n",
              "          file: file.name,\n",
              "          data: base64,\n",
              "        },\n",
              "      };\n",
              "\n",
              "      let percentDone = fileData.byteLength === 0 ?\n",
              "          100 :\n",
              "          Math.round((position / fileData.byteLength) * 100);\n",
              "      percent.textContent = `${percentDone}% done`;\n",
              "\n",
              "    } while (position < fileData.byteLength);\n",
              "  }\n",
              "\n",
              "  // All done.\n",
              "  yield {\n",
              "    response: {\n",
              "      action: 'complete',\n",
              "    }\n",
              "  };\n",
              "}\n",
              "\n",
              "scope.google = scope.google || {};\n",
              "scope.google.colab = scope.google.colab || {};\n",
              "scope.google.colab._files = {\n",
              "  _uploadFiles,\n",
              "  _uploadFilesContinue,\n",
              "};\n",
              "})(self);\n",
              "</script> "
            ]
          },
          "metadata": {}
        },
        {
          "output_type": "stream",
          "name": "stdout",
          "text": [
            "Saving kaggle.json to kaggle (1).json\n"
          ]
        }
      ]
    },
    {
      "cell_type": "markdown",
      "source": [
        "### Fazendo o download do dataset"
      ],
      "metadata": {
        "id": "DPL2Ky8Cjlvj"
      }
    },
    {
      "cell_type": "code",
      "source": [
        "!kaggle datasets download -d nandanp6/cataract-image-dataset # Baixa o dataset\n",
        "!unzip cataract-image-dataset.zip # Descompacta o arquivo baixado"
      ],
      "metadata": {
        "colab": {
          "base_uri": "https://localhost:8080/"
        },
        "collapsed": true,
        "id": "CGXFSaWfjqJ7",
        "outputId": "39daa84d-df7d-41a5-a32a-4ebcf6b207cd"
      },
      "execution_count": null,
      "outputs": [
        {
          "output_type": "stream",
          "name": "stdout",
          "text": [
            "Dataset URL: https://www.kaggle.com/datasets/nandanp6/cataract-image-dataset\n",
            "License(s): copyright-authors\n",
            "cataract-image-dataset.zip: Skipping, found more recently modified local copy (use --force to force download)\n",
            "Archive:  cataract-image-dataset.zip\n",
            "replace processed_images/test/cataract/image_246.png? [y]es, [n]o, [A]ll, [N]one, [r]ename: A\n",
            "  inflating: processed_images/test/cataract/image_246.png  \n",
            "  inflating: processed_images/test/cataract/image_247.png  \n",
            "  inflating: processed_images/test/cataract/image_248.png  \n",
            "  inflating: processed_images/test/cataract/image_249.png  \n",
            "  inflating: processed_images/test/cataract/image_250.png  \n",
            "  inflating: processed_images/test/cataract/image_251.png  \n",
            "  inflating: processed_images/test/cataract/image_252.png  \n",
            "  inflating: processed_images/test/cataract/image_253.png  \n",
            "  inflating: processed_images/test/cataract/image_254.png  \n",
            "  inflating: processed_images/test/cataract/image_255.png  \n",
            "  inflating: processed_images/test/cataract/image_256.png  \n",
            "  inflating: processed_images/test/cataract/image_257.png  \n",
            "  inflating: processed_images/test/cataract/image_258.png  \n",
            "  inflating: processed_images/test/cataract/image_259.png  \n",
            "  inflating: processed_images/test/cataract/image_260.png  \n",
            "  inflating: processed_images/test/cataract/image_261.png  \n",
            "  inflating: processed_images/test/cataract/image_262.png  \n",
            "  inflating: processed_images/test/cataract/image_263.png  \n",
            "  inflating: processed_images/test/cataract/image_264.png  \n",
            "  inflating: processed_images/test/cataract/image_265.png  \n",
            "  inflating: processed_images/test/cataract/image_266.png  \n",
            "  inflating: processed_images/test/cataract/image_267.png  \n",
            "  inflating: processed_images/test/cataract/image_268.png  \n",
            "  inflating: processed_images/test/cataract/image_269.png  \n",
            "  inflating: processed_images/test/cataract/image_270.png  \n",
            "  inflating: processed_images/test/cataract/image_271.png  \n",
            "  inflating: processed_images/test/cataract/image_272.png  \n",
            "  inflating: processed_images/test/cataract/image_273.png  \n",
            "  inflating: processed_images/test/cataract/image_274.png  \n",
            "  inflating: processed_images/test/cataract/image_275.png  \n",
            "  inflating: processed_images/test/cataract/image_276.png  \n",
            "  inflating: processed_images/test/cataract/image_277.png  \n",
            "  inflating: processed_images/test/cataract/image_278.png  \n",
            "  inflating: processed_images/test/cataract/image_279.png  \n",
            "  inflating: processed_images/test/cataract/image_280.png  \n",
            "  inflating: processed_images/test/cataract/image_281.png  \n",
            "  inflating: processed_images/test/cataract/image_282.png  \n",
            "  inflating: processed_images/test/cataract/image_283.png  \n",
            "  inflating: processed_images/test/cataract/image_284.png  \n",
            "  inflating: processed_images/test/cataract/image_285.png  \n",
            "  inflating: processed_images/test/cataract/image_286.png  \n",
            "  inflating: processed_images/test/cataract/image_287.png  \n",
            "  inflating: processed_images/test/cataract/image_288.png  \n",
            "  inflating: processed_images/test/cataract/image_289.png  \n",
            "  inflating: processed_images/test/cataract/image_290.png  \n",
            "  inflating: processed_images/test/cataract/image_291.png  \n",
            "  inflating: processed_images/test/cataract/image_292.png  \n",
            "  inflating: processed_images/test/cataract/image_293.png  \n",
            "  inflating: processed_images/test/cataract/image_294.png  \n",
            "  inflating: processed_images/test/cataract/image_295.png  \n",
            "  inflating: processed_images/test/cataract/image_296.png  \n",
            "  inflating: processed_images/test/cataract/image_297.png  \n",
            "  inflating: processed_images/test/cataract/image_298.png  \n",
            "  inflating: processed_images/test/cataract/image_299.png  \n",
            "  inflating: processed_images/test/cataract/image_300.png  \n",
            "  inflating: processed_images/test/cataract/image_301.png  \n",
            "  inflating: processed_images/test/cataract/image_302.png  \n",
            "  inflating: processed_images/test/cataract/image_303.png  \n",
            "  inflating: processed_images/test/cataract/image_304.png  \n",
            "  inflating: processed_images/test/cataract/image_305.png  \n",
            "  inflating: processed_images/test/cataract/image_306.png  \n",
            "  inflating: processed_images/test/normal/image_246.png  \n",
            "  inflating: processed_images/test/normal/image_247.png  \n",
            "  inflating: processed_images/test/normal/image_248.png  \n",
            "  inflating: processed_images/test/normal/image_249.png  \n",
            "  inflating: processed_images/test/normal/image_250.png  \n",
            "  inflating: processed_images/test/normal/image_251.png  \n",
            "  inflating: processed_images/test/normal/image_252.png  \n",
            "  inflating: processed_images/test/normal/image_253.png  \n",
            "  inflating: processed_images/test/normal/image_254.png  \n",
            "  inflating: processed_images/test/normal/image_255.png  \n",
            "  inflating: processed_images/test/normal/image_256.png  \n",
            "  inflating: processed_images/test/normal/image_257.png  \n",
            "  inflating: processed_images/test/normal/image_258.png  \n",
            "  inflating: processed_images/test/normal/image_259.png  \n",
            "  inflating: processed_images/test/normal/image_260.png  \n",
            "  inflating: processed_images/test/normal/image_261.png  \n",
            "  inflating: processed_images/test/normal/image_262.png  \n",
            "  inflating: processed_images/test/normal/image_263.png  \n",
            "  inflating: processed_images/test/normal/image_264.png  \n",
            "  inflating: processed_images/test/normal/image_265.png  \n",
            "  inflating: processed_images/test/normal/image_266.png  \n",
            "  inflating: processed_images/test/normal/image_267.png  \n",
            "  inflating: processed_images/test/normal/image_268.png  \n",
            "  inflating: processed_images/test/normal/image_269.png  \n",
            "  inflating: processed_images/test/normal/image_270.png  \n",
            "  inflating: processed_images/test/normal/image_271.png  \n",
            "  inflating: processed_images/test/normal/image_272.png  \n",
            "  inflating: processed_images/test/normal/image_273.png  \n",
            "  inflating: processed_images/test/normal/image_274.png  \n",
            "  inflating: processed_images/test/normal/image_275.png  \n",
            "  inflating: processed_images/test/normal/image_276.png  \n",
            "  inflating: processed_images/test/normal/image_277.png  \n",
            "  inflating: processed_images/test/normal/image_278.png  \n",
            "  inflating: processed_images/test/normal/image_279.png  \n",
            "  inflating: processed_images/test/normal/image_280.png  \n",
            "  inflating: processed_images/test/normal/image_281.png  \n",
            "  inflating: processed_images/test/normal/image_282.png  \n",
            "  inflating: processed_images/test/normal/image_283.png  \n",
            "  inflating: processed_images/test/normal/image_284.png  \n",
            "  inflating: processed_images/test/normal/image_285.png  \n",
            "  inflating: processed_images/test/normal/image_286.png  \n",
            "  inflating: processed_images/test/normal/image_287.png  \n",
            "  inflating: processed_images/test/normal/image_288.png  \n",
            "  inflating: processed_images/test/normal/image_289.png  \n",
            "  inflating: processed_images/test/normal/image_290.png  \n",
            "  inflating: processed_images/test/normal/image_291.png  \n",
            "  inflating: processed_images/test/normal/image_292.png  \n",
            "  inflating: processed_images/test/normal/image_293.png  \n",
            "  inflating: processed_images/test/normal/image_294.png  \n",
            "  inflating: processed_images/test/normal/image_295.png  \n",
            "  inflating: processed_images/test/normal/image_296.png  \n",
            "  inflating: processed_images/test/normal/image_297.png  \n",
            "  inflating: processed_images/test/normal/image_298.png  \n",
            "  inflating: processed_images/test/normal/image_299.png  \n",
            "  inflating: processed_images/test/normal/image_300.png  \n",
            "  inflating: processed_images/test/normal/image_301.png  \n",
            "  inflating: processed_images/test/normal/image_302.png  \n",
            "  inflating: processed_images/test/normal/image_303.png  \n",
            "  inflating: processed_images/test/normal/image_304.png  \n",
            "  inflating: processed_images/test/normal/image_305.png  \n",
            "  inflating: processed_images/train/cataract/image_1.png  \n",
            "  inflating: processed_images/train/cataract/image_10.png  \n",
            "  inflating: processed_images/train/cataract/image_100.png  \n",
            "  inflating: processed_images/train/cataract/image_101.png  \n",
            "  inflating: processed_images/train/cataract/image_102.png  \n",
            "  inflating: processed_images/train/cataract/image_103.png  \n",
            "  inflating: processed_images/train/cataract/image_104.png  \n",
            "  inflating: processed_images/train/cataract/image_105.png  \n",
            "  inflating: processed_images/train/cataract/image_106.png  \n",
            "  inflating: processed_images/train/cataract/image_107.png  \n",
            "  inflating: processed_images/train/cataract/image_108.png  \n",
            "  inflating: processed_images/train/cataract/image_109.png  \n",
            "  inflating: processed_images/train/cataract/image_11.png  \n",
            "  inflating: processed_images/train/cataract/image_110.png  \n",
            "  inflating: processed_images/train/cataract/image_111.png  \n",
            "  inflating: processed_images/train/cataract/image_112.png  \n",
            "  inflating: processed_images/train/cataract/image_113.png  \n",
            "  inflating: processed_images/train/cataract/image_114.png  \n",
            "  inflating: processed_images/train/cataract/image_115.png  \n",
            "  inflating: processed_images/train/cataract/image_116.png  \n",
            "  inflating: processed_images/train/cataract/image_117.png  \n",
            "  inflating: processed_images/train/cataract/image_118.png  \n",
            "  inflating: processed_images/train/cataract/image_119.png  \n",
            "  inflating: processed_images/train/cataract/image_12.png  \n",
            "  inflating: processed_images/train/cataract/image_120.png  \n",
            "  inflating: processed_images/train/cataract/image_121.png  \n",
            "  inflating: processed_images/train/cataract/image_122.png  \n",
            "  inflating: processed_images/train/cataract/image_123.png  \n",
            "  inflating: processed_images/train/cataract/image_124.png  \n",
            "  inflating: processed_images/train/cataract/image_125.png  \n",
            "  inflating: processed_images/train/cataract/image_126.png  \n",
            "  inflating: processed_images/train/cataract/image_127.png  \n",
            "  inflating: processed_images/train/cataract/image_128.png  \n",
            "  inflating: processed_images/train/cataract/image_129.png  \n",
            "  inflating: processed_images/train/cataract/image_13.png  \n",
            "  inflating: processed_images/train/cataract/image_130.png  \n",
            "  inflating: processed_images/train/cataract/image_131.png  \n",
            "  inflating: processed_images/train/cataract/image_132.png  \n",
            "  inflating: processed_images/train/cataract/image_133.png  \n",
            "  inflating: processed_images/train/cataract/image_134.png  \n",
            "  inflating: processed_images/train/cataract/image_135.png  \n",
            "  inflating: processed_images/train/cataract/image_136.png  \n",
            "  inflating: processed_images/train/cataract/image_137.png  \n",
            "  inflating: processed_images/train/cataract/image_138.png  \n",
            "  inflating: processed_images/train/cataract/image_139.png  \n",
            "  inflating: processed_images/train/cataract/image_14.png  \n",
            "  inflating: processed_images/train/cataract/image_140.png  \n",
            "  inflating: processed_images/train/cataract/image_141.png  \n",
            "  inflating: processed_images/train/cataract/image_142.png  \n",
            "  inflating: processed_images/train/cataract/image_143.png  \n",
            "  inflating: processed_images/train/cataract/image_144.png  \n",
            "  inflating: processed_images/train/cataract/image_145.png  \n",
            "  inflating: processed_images/train/cataract/image_146.png  \n",
            "  inflating: processed_images/train/cataract/image_147.png  \n",
            "  inflating: processed_images/train/cataract/image_148.png  \n",
            "  inflating: processed_images/train/cataract/image_149.png  \n",
            "  inflating: processed_images/train/cataract/image_15.png  \n",
            "  inflating: processed_images/train/cataract/image_150.png  \n",
            "  inflating: processed_images/train/cataract/image_151.png  \n",
            "  inflating: processed_images/train/cataract/image_152.png  \n",
            "  inflating: processed_images/train/cataract/image_153.png  \n",
            "  inflating: processed_images/train/cataract/image_154.png  \n",
            "  inflating: processed_images/train/cataract/image_155.png  \n",
            "  inflating: processed_images/train/cataract/image_156.png  \n",
            "  inflating: processed_images/train/cataract/image_157.png  \n",
            "  inflating: processed_images/train/cataract/image_158.png  \n",
            "  inflating: processed_images/train/cataract/image_159.png  \n",
            "  inflating: processed_images/train/cataract/image_16.png  \n",
            "  inflating: processed_images/train/cataract/image_160.png  \n",
            "  inflating: processed_images/train/cataract/image_161.png  \n",
            "  inflating: processed_images/train/cataract/image_162.png  \n",
            "  inflating: processed_images/train/cataract/image_163.png  \n",
            "  inflating: processed_images/train/cataract/image_164.png  \n",
            "  inflating: processed_images/train/cataract/image_165.png  \n",
            "  inflating: processed_images/train/cataract/image_166.png  \n",
            "  inflating: processed_images/train/cataract/image_167.png  \n",
            "  inflating: processed_images/train/cataract/image_168.png  \n",
            "  inflating: processed_images/train/cataract/image_169.png  \n",
            "  inflating: processed_images/train/cataract/image_17.png  \n",
            "  inflating: processed_images/train/cataract/image_170.png  \n",
            "  inflating: processed_images/train/cataract/image_171.png  \n",
            "  inflating: processed_images/train/cataract/image_172.png  \n",
            "  inflating: processed_images/train/cataract/image_173.png  \n",
            "  inflating: processed_images/train/cataract/image_174.png  \n",
            "  inflating: processed_images/train/cataract/image_175.png  \n",
            "  inflating: processed_images/train/cataract/image_176.png  \n",
            "  inflating: processed_images/train/cataract/image_177.png  \n",
            "  inflating: processed_images/train/cataract/image_178.png  \n",
            "  inflating: processed_images/train/cataract/image_179.png  \n",
            "  inflating: processed_images/train/cataract/image_18.png  \n",
            "  inflating: processed_images/train/cataract/image_180.png  \n",
            "  inflating: processed_images/train/cataract/image_181.png  \n",
            "  inflating: processed_images/train/cataract/image_182.png  \n",
            "  inflating: processed_images/train/cataract/image_183.png  \n",
            "  inflating: processed_images/train/cataract/image_184.png  \n",
            "  inflating: processed_images/train/cataract/image_185.png  \n",
            "  inflating: processed_images/train/cataract/image_186.png  \n",
            "  inflating: processed_images/train/cataract/image_187.png  \n",
            "  inflating: processed_images/train/cataract/image_188.png  \n",
            "  inflating: processed_images/train/cataract/image_189.png  \n",
            "  inflating: processed_images/train/cataract/image_190.png  \n",
            "  inflating: processed_images/train/cataract/image_191.png  \n",
            "  inflating: processed_images/train/cataract/image_192.png  \n",
            "  inflating: processed_images/train/cataract/image_193.png  \n",
            "  inflating: processed_images/train/cataract/image_194.png  \n",
            "  inflating: processed_images/train/cataract/image_195.png  \n",
            "  inflating: processed_images/train/cataract/image_196.png  \n",
            "  inflating: processed_images/train/cataract/image_197.png  \n",
            "  inflating: processed_images/train/cataract/image_198.png  \n",
            "  inflating: processed_images/train/cataract/image_199.png  \n",
            "  inflating: processed_images/train/cataract/image_2.png  \n",
            "  inflating: processed_images/train/cataract/image_20.png  \n",
            "  inflating: processed_images/train/cataract/image_200.png  \n",
            "  inflating: processed_images/train/cataract/image_201.png  \n",
            "  inflating: processed_images/train/cataract/image_202.png  \n",
            "  inflating: processed_images/train/cataract/image_203.png  \n",
            "  inflating: processed_images/train/cataract/image_204.png  \n",
            "  inflating: processed_images/train/cataract/image_205.png  \n",
            "  inflating: processed_images/train/cataract/image_206.png  \n",
            "  inflating: processed_images/train/cataract/image_207.png  \n",
            "  inflating: processed_images/train/cataract/image_208.png  \n",
            "  inflating: processed_images/train/cataract/image_209.png  \n",
            "  inflating: processed_images/train/cataract/image_21.png  \n",
            "  inflating: processed_images/train/cataract/image_210.png  \n",
            "  inflating: processed_images/train/cataract/image_211.png  \n",
            "  inflating: processed_images/train/cataract/image_212.png  \n",
            "  inflating: processed_images/train/cataract/image_213.png  \n",
            "  inflating: processed_images/train/cataract/image_214.png  \n",
            "  inflating: processed_images/train/cataract/image_215.png  \n",
            "  inflating: processed_images/train/cataract/image_216.png  \n",
            "  inflating: processed_images/train/cataract/image_217.png  \n",
            "  inflating: processed_images/train/cataract/image_218.png  \n",
            "  inflating: processed_images/train/cataract/image_219.png  \n",
            "  inflating: processed_images/train/cataract/image_22.png  \n",
            "  inflating: processed_images/train/cataract/image_220.png  \n",
            "  inflating: processed_images/train/cataract/image_221.png  \n",
            "  inflating: processed_images/train/cataract/image_222.png  \n",
            "  inflating: processed_images/train/cataract/image_223.png  \n",
            "  inflating: processed_images/train/cataract/image_224.png  \n",
            "  inflating: processed_images/train/cataract/image_225.png  \n",
            "  inflating: processed_images/train/cataract/image_226.png  \n",
            "  inflating: processed_images/train/cataract/image_227.png  \n",
            "  inflating: processed_images/train/cataract/image_228.png  \n",
            "  inflating: processed_images/train/cataract/image_229.png  \n",
            "  inflating: processed_images/train/cataract/image_23.png  \n",
            "  inflating: processed_images/train/cataract/image_230.png  \n",
            "  inflating: processed_images/train/cataract/image_231.png  \n",
            "  inflating: processed_images/train/cataract/image_232.png  \n",
            "  inflating: processed_images/train/cataract/image_233.png  \n",
            "  inflating: processed_images/train/cataract/image_234.png  \n",
            "  inflating: processed_images/train/cataract/image_235.png  \n",
            "  inflating: processed_images/train/cataract/image_236.png  \n",
            "  inflating: processed_images/train/cataract/image_237.png  \n",
            "  inflating: processed_images/train/cataract/image_238.png  \n",
            "  inflating: processed_images/train/cataract/image_239.png  \n",
            "  inflating: processed_images/train/cataract/image_24.png  \n",
            "  inflating: processed_images/train/cataract/image_240.png  \n",
            "  inflating: processed_images/train/cataract/image_241.png  \n",
            "  inflating: processed_images/train/cataract/image_242.png  \n",
            "  inflating: processed_images/train/cataract/image_243.png  \n",
            "  inflating: processed_images/train/cataract/image_244.png  \n",
            "  inflating: processed_images/train/cataract/image_245.png  \n",
            "  inflating: processed_images/train/cataract/image_246.png  \n",
            "  inflating: processed_images/train/cataract/image_247.png  \n",
            "  inflating: processed_images/train/cataract/image_25.png  \n",
            "  inflating: processed_images/train/cataract/image_26.png  \n",
            "  inflating: processed_images/train/cataract/image_27.png  \n",
            "  inflating: processed_images/train/cataract/image_28.png  \n",
            "  inflating: processed_images/train/cataract/image_29.png  \n",
            "  inflating: processed_images/train/cataract/image_3.png  \n",
            "  inflating: processed_images/train/cataract/image_30.png  \n",
            "  inflating: processed_images/train/cataract/image_31.png  \n",
            "  inflating: processed_images/train/cataract/image_32.png  \n",
            "  inflating: processed_images/train/cataract/image_33.png  \n",
            "  inflating: processed_images/train/cataract/image_34.png  \n",
            "  inflating: processed_images/train/cataract/image_35.png  \n",
            "  inflating: processed_images/train/cataract/image_36.png  \n",
            "  inflating: processed_images/train/cataract/image_37.png  \n",
            "  inflating: processed_images/train/cataract/image_38.png  \n",
            "  inflating: processed_images/train/cataract/image_39.png  \n",
            "  inflating: processed_images/train/cataract/image_4.png  \n",
            "  inflating: processed_images/train/cataract/image_40.png  \n",
            "  inflating: processed_images/train/cataract/image_41.png  \n",
            "  inflating: processed_images/train/cataract/image_42.png  \n",
            "  inflating: processed_images/train/cataract/image_43.png  \n",
            "  inflating: processed_images/train/cataract/image_44.png  \n",
            "  inflating: processed_images/train/cataract/image_45.png  \n",
            "  inflating: processed_images/train/cataract/image_47.png  \n",
            "  inflating: processed_images/train/cataract/image_48.png  \n",
            "  inflating: processed_images/train/cataract/image_49.png  \n",
            "  inflating: processed_images/train/cataract/image_5.png  \n",
            "  inflating: processed_images/train/cataract/image_50.png  \n",
            "  inflating: processed_images/train/cataract/image_51.png  \n",
            "  inflating: processed_images/train/cataract/image_52.png  \n",
            "  inflating: processed_images/train/cataract/image_53.png  \n",
            "  inflating: processed_images/train/cataract/image_54.png  \n",
            "  inflating: processed_images/train/cataract/image_55.png  \n",
            "  inflating: processed_images/train/cataract/image_56.png  \n",
            "  inflating: processed_images/train/cataract/image_57.png  \n",
            "  inflating: processed_images/train/cataract/image_58.png  \n",
            "  inflating: processed_images/train/cataract/image_59.png  \n",
            "  inflating: processed_images/train/cataract/image_6.png  \n",
            "  inflating: processed_images/train/cataract/image_60.png  \n",
            "  inflating: processed_images/train/cataract/image_61.png  \n",
            "  inflating: processed_images/train/cataract/image_62.png  \n",
            "  inflating: processed_images/train/cataract/image_63.png  \n",
            "  inflating: processed_images/train/cataract/image_64.png  \n",
            "  inflating: processed_images/train/cataract/image_65.png  \n",
            "  inflating: processed_images/train/cataract/image_66.png  \n",
            "  inflating: processed_images/train/cataract/image_67.png  \n",
            "  inflating: processed_images/train/cataract/image_68.png  \n",
            "  inflating: processed_images/train/cataract/image_69.png  \n",
            "  inflating: processed_images/train/cataract/image_7.png  \n",
            "  inflating: processed_images/train/cataract/image_70.png  \n",
            "  inflating: processed_images/train/cataract/image_71.png  \n",
            "  inflating: processed_images/train/cataract/image_72.png  \n",
            "  inflating: processed_images/train/cataract/image_73.png  \n",
            "  inflating: processed_images/train/cataract/image_74.png  \n",
            "  inflating: processed_images/train/cataract/image_75.png  \n",
            "  inflating: processed_images/train/cataract/image_76.png  \n",
            "  inflating: processed_images/train/cataract/image_77.png  \n",
            "  inflating: processed_images/train/cataract/image_78.png  \n",
            "  inflating: processed_images/train/cataract/image_79.png  \n",
            "  inflating: processed_images/train/cataract/image_8.png  \n",
            "  inflating: processed_images/train/cataract/image_80.png  \n",
            "  inflating: processed_images/train/cataract/image_81.png  \n",
            "  inflating: processed_images/train/cataract/image_82.png  \n",
            "  inflating: processed_images/train/cataract/image_83.png  \n",
            "  inflating: processed_images/train/cataract/image_84.png  \n",
            "  inflating: processed_images/train/cataract/image_85.png  \n",
            "  inflating: processed_images/train/cataract/image_86.png  \n",
            "  inflating: processed_images/train/cataract/image_87.png  \n",
            "  inflating: processed_images/train/cataract/image_88.png  \n",
            "  inflating: processed_images/train/cataract/image_89.png  \n",
            "  inflating: processed_images/train/cataract/image_9.png  \n",
            "  inflating: processed_images/train/cataract/image_90.png  \n",
            "  inflating: processed_images/train/cataract/image_91.png  \n",
            "  inflating: processed_images/train/cataract/image_92.png  \n",
            "  inflating: processed_images/train/cataract/image_93.png  \n",
            "  inflating: processed_images/train/cataract/image_94.png  \n",
            "  inflating: processed_images/train/cataract/image_95.png  \n",
            "  inflating: processed_images/train/cataract/image_96.png  \n",
            "  inflating: processed_images/train/cataract/image_97.png  \n",
            "  inflating: processed_images/train/cataract/image_98.png  \n",
            "  inflating: processed_images/train/cataract/image_99.png  \n",
            "  inflating: processed_images/train/normal/image_0.png  \n",
            "  inflating: processed_images/train/normal/image_1.png  \n",
            "  inflating: processed_images/train/normal/image_10.png  \n",
            "  inflating: processed_images/train/normal/image_100.png  \n",
            "  inflating: processed_images/train/normal/image_101.png  \n",
            "  inflating: processed_images/train/normal/image_102.png  \n",
            "  inflating: processed_images/train/normal/image_103.png  \n",
            "  inflating: processed_images/train/normal/image_104.png  \n",
            "  inflating: processed_images/train/normal/image_105.png  \n",
            "  inflating: processed_images/train/normal/image_106.png  \n",
            "  inflating: processed_images/train/normal/image_107.png  \n",
            "  inflating: processed_images/train/normal/image_108.png  \n",
            "  inflating: processed_images/train/normal/image_109.png  \n",
            "  inflating: processed_images/train/normal/image_11.png  \n",
            "  inflating: processed_images/train/normal/image_110.png  \n",
            "  inflating: processed_images/train/normal/image_111.png  \n",
            "  inflating: processed_images/train/normal/image_112.png  \n",
            "  inflating: processed_images/train/normal/image_113.png  \n",
            "  inflating: processed_images/train/normal/image_114.png  \n",
            "  inflating: processed_images/train/normal/image_115.png  \n",
            "  inflating: processed_images/train/normal/image_116.png  \n",
            "  inflating: processed_images/train/normal/image_117.png  \n",
            "  inflating: processed_images/train/normal/image_118.png  \n",
            "  inflating: processed_images/train/normal/image_119.png  \n",
            "  inflating: processed_images/train/normal/image_12.png  \n",
            "  inflating: processed_images/train/normal/image_120.png  \n",
            "  inflating: processed_images/train/normal/image_121.png  \n",
            "  inflating: processed_images/train/normal/image_122.png  \n",
            "  inflating: processed_images/train/normal/image_123.png  \n",
            "  inflating: processed_images/train/normal/image_124.png  \n",
            "  inflating: processed_images/train/normal/image_125.png  \n",
            "  inflating: processed_images/train/normal/image_126.png  \n",
            "  inflating: processed_images/train/normal/image_127.png  \n",
            "  inflating: processed_images/train/normal/image_128.png  \n",
            "  inflating: processed_images/train/normal/image_129.png  \n",
            "  inflating: processed_images/train/normal/image_13.png  \n",
            "  inflating: processed_images/train/normal/image_130.png  \n",
            "  inflating: processed_images/train/normal/image_131.png  \n",
            "  inflating: processed_images/train/normal/image_132.png  \n",
            "  inflating: processed_images/train/normal/image_133.png  \n",
            "  inflating: processed_images/train/normal/image_134.png  \n",
            "  inflating: processed_images/train/normal/image_135.png  \n",
            "  inflating: processed_images/train/normal/image_136.png  \n",
            "  inflating: processed_images/train/normal/image_137.png  \n",
            "  inflating: processed_images/train/normal/image_138.png  \n",
            "  inflating: processed_images/train/normal/image_139.png  \n",
            "  inflating: processed_images/train/normal/image_14.png  \n",
            "  inflating: processed_images/train/normal/image_140.png  \n",
            "  inflating: processed_images/train/normal/image_141.png  \n",
            "  inflating: processed_images/train/normal/image_142.png  \n",
            "  inflating: processed_images/train/normal/image_143.png  \n",
            "  inflating: processed_images/train/normal/image_144.png  \n",
            "  inflating: processed_images/train/normal/image_145.png  \n",
            "  inflating: processed_images/train/normal/image_146.png  \n",
            "  inflating: processed_images/train/normal/image_147.png  \n",
            "  inflating: processed_images/train/normal/image_148.png  \n",
            "  inflating: processed_images/train/normal/image_149.png  \n",
            "  inflating: processed_images/train/normal/image_15.png  \n",
            "  inflating: processed_images/train/normal/image_150.png  \n",
            "  inflating: processed_images/train/normal/image_151.png  \n",
            "  inflating: processed_images/train/normal/image_152.png  \n",
            "  inflating: processed_images/train/normal/image_153.png  \n",
            "  inflating: processed_images/train/normal/image_154.png  \n",
            "  inflating: processed_images/train/normal/image_155.png  \n",
            "  inflating: processed_images/train/normal/image_156.png  \n",
            "  inflating: processed_images/train/normal/image_157.png  \n",
            "  inflating: processed_images/train/normal/image_158.png  \n",
            "  inflating: processed_images/train/normal/image_159.png  \n",
            "  inflating: processed_images/train/normal/image_16.png  \n",
            "  inflating: processed_images/train/normal/image_160.png  \n",
            "  inflating: processed_images/train/normal/image_161.png  \n",
            "  inflating: processed_images/train/normal/image_162.png  \n",
            "  inflating: processed_images/train/normal/image_163.png  \n",
            "  inflating: processed_images/train/normal/image_164.png  \n",
            "  inflating: processed_images/train/normal/image_165.png  \n",
            "  inflating: processed_images/train/normal/image_166.png  \n",
            "  inflating: processed_images/train/normal/image_167.png  \n",
            "  inflating: processed_images/train/normal/image_168.png  \n",
            "  inflating: processed_images/train/normal/image_169.png  \n",
            "  inflating: processed_images/train/normal/image_17.png  \n",
            "  inflating: processed_images/train/normal/image_170.png  \n",
            "  inflating: processed_images/train/normal/image_171.png  \n",
            "  inflating: processed_images/train/normal/image_172.png  \n",
            "  inflating: processed_images/train/normal/image_173.png  \n",
            "  inflating: processed_images/train/normal/image_174.png  \n",
            "  inflating: processed_images/train/normal/image_175.png  \n",
            "  inflating: processed_images/train/normal/image_176.png  \n",
            "  inflating: processed_images/train/normal/image_177.png  \n",
            "  inflating: processed_images/train/normal/image_178.png  \n",
            "  inflating: processed_images/train/normal/image_179.png  \n",
            "  inflating: processed_images/train/normal/image_18.png  \n",
            "  inflating: processed_images/train/normal/image_180.png  \n",
            "  inflating: processed_images/train/normal/image_181.png  \n",
            "  inflating: processed_images/train/normal/image_182.png  \n",
            "  inflating: processed_images/train/normal/image_183.png  \n",
            "  inflating: processed_images/train/normal/image_184.png  \n",
            "  inflating: processed_images/train/normal/image_185.png  \n",
            "  inflating: processed_images/train/normal/image_186.png  \n",
            "  inflating: processed_images/train/normal/image_187.png  \n",
            "  inflating: processed_images/train/normal/image_188.png  \n",
            "  inflating: processed_images/train/normal/image_189.png  \n",
            "  inflating: processed_images/train/normal/image_19.png  \n",
            "  inflating: processed_images/train/normal/image_190.png  \n",
            "  inflating: processed_images/train/normal/image_191.png  \n",
            "  inflating: processed_images/train/normal/image_192.png  \n",
            "  inflating: processed_images/train/normal/image_193.png  \n",
            "  inflating: processed_images/train/normal/image_194.png  \n",
            "  inflating: processed_images/train/normal/image_195.png  \n",
            "  inflating: processed_images/train/normal/image_196.png  \n",
            "  inflating: processed_images/train/normal/image_197.png  \n",
            "  inflating: processed_images/train/normal/image_198.png  \n",
            "  inflating: processed_images/train/normal/image_199.png  \n",
            "  inflating: processed_images/train/normal/image_2.png  \n",
            "  inflating: processed_images/train/normal/image_20.png  \n",
            "  inflating: processed_images/train/normal/image_200.png  \n",
            "  inflating: processed_images/train/normal/image_201.png  \n",
            "  inflating: processed_images/train/normal/image_202.png  \n",
            "  inflating: processed_images/train/normal/image_203.png  \n",
            "  inflating: processed_images/train/normal/image_204.png  \n",
            "  inflating: processed_images/train/normal/image_205.png  \n",
            "  inflating: processed_images/train/normal/image_206.png  \n",
            "  inflating: processed_images/train/normal/image_207.png  \n",
            "  inflating: processed_images/train/normal/image_208.png  \n",
            "  inflating: processed_images/train/normal/image_209.png  \n",
            "  inflating: processed_images/train/normal/image_21.png  \n",
            "  inflating: processed_images/train/normal/image_210.png  \n",
            "  inflating: processed_images/train/normal/image_211.png  \n",
            "  inflating: processed_images/train/normal/image_212.png  \n",
            "  inflating: processed_images/train/normal/image_213.png  \n",
            "  inflating: processed_images/train/normal/image_214.png  \n",
            "  inflating: processed_images/train/normal/image_215.png  \n",
            "  inflating: processed_images/train/normal/image_216.png  \n",
            "  inflating: processed_images/train/normal/image_217.png  \n",
            "  inflating: processed_images/train/normal/image_218.png  \n",
            "  inflating: processed_images/train/normal/image_219.png  \n",
            "  inflating: processed_images/train/normal/image_22.png  \n",
            "  inflating: processed_images/train/normal/image_220.png  \n",
            "  inflating: processed_images/train/normal/image_221.png  \n",
            "  inflating: processed_images/train/normal/image_222.png  \n",
            "  inflating: processed_images/train/normal/image_223.png  \n",
            "  inflating: processed_images/train/normal/image_224.png  \n",
            "  inflating: processed_images/train/normal/image_225.png  \n",
            "  inflating: processed_images/train/normal/image_226.png  \n",
            "  inflating: processed_images/train/normal/image_227.png  \n",
            "  inflating: processed_images/train/normal/image_228.png  \n",
            "  inflating: processed_images/train/normal/image_229.png  \n",
            "  inflating: processed_images/train/normal/image_23.png  \n",
            "  inflating: processed_images/train/normal/image_230.png  \n",
            "  inflating: processed_images/train/normal/image_231.png  \n",
            "  inflating: processed_images/train/normal/image_232.png  \n",
            "  inflating: processed_images/train/normal/image_233.png  \n",
            "  inflating: processed_images/train/normal/image_234.png  \n",
            "  inflating: processed_images/train/normal/image_235.png  \n",
            "  inflating: processed_images/train/normal/image_236.png  \n",
            "  inflating: processed_images/train/normal/image_237.png  \n",
            "  inflating: processed_images/train/normal/image_238.png  \n",
            "  inflating: processed_images/train/normal/image_239.png  \n",
            "  inflating: processed_images/train/normal/image_24.png  \n",
            "  inflating: processed_images/train/normal/image_240.png  \n",
            "  inflating: processed_images/train/normal/image_241.png  \n",
            "  inflating: processed_images/train/normal/image_242.png  \n",
            "  inflating: processed_images/train/normal/image_243.png  \n",
            "  inflating: processed_images/train/normal/image_244.png  \n",
            "  inflating: processed_images/train/normal/image_245.png  \n",
            "  inflating: processed_images/train/normal/image_25.png  \n",
            "  inflating: processed_images/train/normal/image_26.png  \n",
            "  inflating: processed_images/train/normal/image_27.png  \n",
            "  inflating: processed_images/train/normal/image_28.png  \n",
            "  inflating: processed_images/train/normal/image_29.png  \n",
            "  inflating: processed_images/train/normal/image_3.png  \n",
            "  inflating: processed_images/train/normal/image_30.png  \n",
            "  inflating: processed_images/train/normal/image_31.png  \n",
            "  inflating: processed_images/train/normal/image_32.png  \n",
            "  inflating: processed_images/train/normal/image_33.png  \n",
            "  inflating: processed_images/train/normal/image_34.png  \n",
            "  inflating: processed_images/train/normal/image_35.png  \n",
            "  inflating: processed_images/train/normal/image_36.png  \n",
            "  inflating: processed_images/train/normal/image_37.png  \n",
            "  inflating: processed_images/train/normal/image_38.png  \n",
            "  inflating: processed_images/train/normal/image_39.png  \n",
            "  inflating: processed_images/train/normal/image_4.png  \n",
            "  inflating: processed_images/train/normal/image_40.png  \n",
            "  inflating: processed_images/train/normal/image_41.png  \n",
            "  inflating: processed_images/train/normal/image_42.png  \n",
            "  inflating: processed_images/train/normal/image_43.png  \n",
            "  inflating: processed_images/train/normal/image_44.png  \n",
            "  inflating: processed_images/train/normal/image_45.png  \n",
            "  inflating: processed_images/train/normal/image_46.png  \n",
            "  inflating: processed_images/train/normal/image_47.png  \n",
            "  inflating: processed_images/train/normal/image_48.png  \n",
            "  inflating: processed_images/train/normal/image_49.png  \n",
            "  inflating: processed_images/train/normal/image_5.png  \n",
            "  inflating: processed_images/train/normal/image_50.png  \n",
            "  inflating: processed_images/train/normal/image_51.png  \n",
            "  inflating: processed_images/train/normal/image_52.png  \n",
            "  inflating: processed_images/train/normal/image_53.png  \n",
            "  inflating: processed_images/train/normal/image_54.png  \n",
            "  inflating: processed_images/train/normal/image_55.png  \n",
            "  inflating: processed_images/train/normal/image_56.png  \n",
            "  inflating: processed_images/train/normal/image_57.png  \n",
            "  inflating: processed_images/train/normal/image_58.png  \n",
            "  inflating: processed_images/train/normal/image_59.png  \n",
            "  inflating: processed_images/train/normal/image_6.png  \n",
            "  inflating: processed_images/train/normal/image_60.png  \n",
            "  inflating: processed_images/train/normal/image_61.png  \n",
            "  inflating: processed_images/train/normal/image_62.png  \n",
            "  inflating: processed_images/train/normal/image_63.png  \n",
            "  inflating: processed_images/train/normal/image_64.png  \n",
            "  inflating: processed_images/train/normal/image_65.png  \n",
            "  inflating: processed_images/train/normal/image_66.png  \n",
            "  inflating: processed_images/train/normal/image_67.png  \n",
            "  inflating: processed_images/train/normal/image_68.png  \n",
            "  inflating: processed_images/train/normal/image_69.png  \n",
            "  inflating: processed_images/train/normal/image_7.png  \n",
            "  inflating: processed_images/train/normal/image_70.png  \n",
            "  inflating: processed_images/train/normal/image_71.png  \n",
            "  inflating: processed_images/train/normal/image_72.png  \n",
            "  inflating: processed_images/train/normal/image_73.png  \n",
            "  inflating: processed_images/train/normal/image_74.png  \n",
            "  inflating: processed_images/train/normal/image_75.png  \n",
            "  inflating: processed_images/train/normal/image_76.png  \n",
            "  inflating: processed_images/train/normal/image_77.png  \n",
            "  inflating: processed_images/train/normal/image_78.png  \n",
            "  inflating: processed_images/train/normal/image_79.png  \n",
            "  inflating: processed_images/train/normal/image_8.png  \n",
            "  inflating: processed_images/train/normal/image_80.png  \n",
            "  inflating: processed_images/train/normal/image_81.png  \n",
            "  inflating: processed_images/train/normal/image_82.png  \n",
            "  inflating: processed_images/train/normal/image_83.png  \n",
            "  inflating: processed_images/train/normal/image_84.png  \n",
            "  inflating: processed_images/train/normal/image_85.png  \n",
            "  inflating: processed_images/train/normal/image_86.png  \n",
            "  inflating: processed_images/train/normal/image_87.png  \n",
            "  inflating: processed_images/train/normal/image_88.png  \n",
            "  inflating: processed_images/train/normal/image_89.png  \n",
            "  inflating: processed_images/train/normal/image_9.png  \n",
            "  inflating: processed_images/train/normal/image_90.png  \n",
            "  inflating: processed_images/train/normal/image_91.png  \n",
            "  inflating: processed_images/train/normal/image_92.png  \n",
            "  inflating: processed_images/train/normal/image_93.png  \n",
            "  inflating: processed_images/train/normal/image_94.png  \n",
            "  inflating: processed_images/train/normal/image_95.png  \n",
            "  inflating: processed_images/train/normal/image_96.png  \n",
            "  inflating: processed_images/train/normal/image_97.png  \n",
            "  inflating: processed_images/train/normal/image_98.png  \n",
            "  inflating: processed_images/train/normal/image_99.png  \n"
          ]
        }
      ]
    },
    {
      "cell_type": "markdown",
      "source": [
        "### Olhando a estrutura do que foi baixado"
      ],
      "metadata": {
        "id": "l2d6vFWnk55H"
      }
    },
    {
      "cell_type": "code",
      "source": [
        "print(\"Estrutura de pastas do que foi baixado:\\n\")\n",
        "!ls -la processed_images\n",
        "\n",
        "train_normal = 'processed_images/train/normal'\n",
        "train_cataract = 'processed_images/train/cataract'\n",
        "test_normal = 'processed_images/test/normal'\n",
        "test_cataract = 'processed_images/test/cataract'\n",
        "\n",
        "print('_' * 50)\n",
        "print('\\n'\n",
        "'Imagens na pasta de treino:\\n'\n",
        "f'- Normal: {len(os.listdir(train_normal))} imagens\\n'\n",
        "f'- Cataratas: {len(os.listdir(train_cataract))} imagens\\n'\n",
        "'\\nImagens na pasta de teste:\\n'\n",
        "f'- Normal: {len(os.listdir(test_normal))} imagens\\n'\n",
        "f'- Cataratas: {len(os.listdir(test_cataract))} imagens')"
      ],
      "metadata": {
        "colab": {
          "base_uri": "https://localhost:8080/"
        },
        "id": "qyydYk8Yk8Rs",
        "outputId": "92995ba5-606e-426e-a85f-d15c4fc19788"
      },
      "execution_count": null,
      "outputs": [
        {
          "output_type": "stream",
          "name": "stdout",
          "text": [
            "Estrutura de pastas do que foi baixado:\n",
            "\n",
            "total 20\n",
            "drwxr-xr-x 5 root root 4096 Aug 27 01:40 .\n",
            "drwxr-xr-x 1 root root 4096 Aug 27 01:49 ..\n",
            "drwxr-xr-x 4 root root 4096 Aug 27 01:40 test\n",
            "drwxr-xr-x 4 root root 4096 Aug 27 01:40 train\n",
            "drwxr-xr-x 4 root root 4096 Aug 27 01:40 validation\n",
            "__________________________________________________\n",
            "\n",
            "Imagens na pasta de treino:\n",
            "- Normal: 246 imagens\n",
            "- Cataratas: 245 imagens\n",
            "\n",
            "Imagens na pasta de teste:\n",
            "- Normal: 60 imagens\n",
            "- Cataratas: 61 imagens\n"
          ]
        }
      ]
    },
    {
      "cell_type": "markdown",
      "source": [
        "## Preparação dos dados"
      ],
      "metadata": {
        "id": "vUoPjn8RfHUF"
      }
    },
    {
      "cell_type": "markdown",
      "source": [
        "### Parâmetros"
      ],
      "metadata": {
        "id": "YkR_FvcLoC0A"
      }
    },
    {
      "cell_type": "code",
      "source": [
        "SPLIT_PERCENTAGE = 0.2 # Percentual dos dados de treino que serão usados em validação\n",
        "IMG_SIZE = (224, 224) # Tamanho da imagem de entrada em pixels de largura x comprimento\n",
        "BATCH_SIZE = 32 # Quantidade de imagens a serem processadas por vez\n",
        "GENERATOR_SEED = 42 # Seed para o gerador de dados para reprodutibilidade"
      ],
      "metadata": {
        "id": "ZqOvIB_coE1r"
      },
      "execution_count": null,
      "outputs": []
    },
    {
      "cell_type": "markdown",
      "source": [
        "### Funções"
      ],
      "metadata": {
        "id": "p-0TCZtxnmNb"
      }
    },
    {
      "cell_type": "markdown",
      "source": [
        "#### Divisão de dados em duas pastas em um percentual definido"
      ],
      "metadata": {
        "id": "q4urA3O-nw3w"
      }
    },
    {
      "cell_type": "code",
      "source": [
        "def split_data(source_folder, destination_folder, split_percentage=SPLIT_PERCENTAGE):\n",
        "  # Listar as imagens na pasta\n",
        "  all_files = os.listdir(source_folder)\n",
        "\n",
        "  # Embaralhar as imagens\n",
        "  random.shuffle(all_files)\n",
        "\n",
        "  # Obtém a quantidade de imagens que representa o percentual passado nos parâmetros\n",
        "  destination_count = int(len(all_files) * split_percentage)\n",
        "\n",
        "  print(f\"Total de imagens em {source_folder}: {len(all_files)}\")\n",
        "  print(\"_\" * 50)\n",
        "  print('\\n')\n",
        "  print(f\"Quantidade a ir para {destination_folder}: {destination_count}\")\n",
        "  print(\"_\" * 50)\n",
        "  print('\\n')\n",
        "  print(f\"Restarão em {source_folder}: {len(all_files) - destination_count}\")\n",
        "  print(\"_\" * 50)\n",
        "  print('\\n')\n",
        "\n",
        "  # Movendo as imagens para o destino\n",
        "  for i in range(destination_count):\n",
        "    file_name = all_files[i]\n",
        "    source_path = os.path.join(source_folder, file_name)\n",
        "    destination_path = os.path.join(destination_folder, file_name)\n",
        "    shutil.move(source_path, destination_path)\n",
        "\n",
        "  print(f\"{destination_count} imagens movidas para {destination_folder}\")"
      ],
      "metadata": {
        "id": "LvRV-cZ-nxqB"
      },
      "execution_count": null,
      "outputs": []
    },
    {
      "cell_type": "markdown",
      "source": [
        "### Criando o conjunto de validação a partir dos dados de treino"
      ],
      "metadata": {
        "id": "u434zw1anV_h"
      }
    },
    {
      "cell_type": "code",
      "source": [
        "os.makedirs('processed_images/validation/normal', exist_ok=True) # Cria a pasta de normal para validação\n",
        "os.makedirs('processed_images/validation/cataract', exist_ok=True) # Cria a pastas de cataratas para validação\n",
        "\n",
        "split_data(train_cataract, 'processed_images/validation/cataract') # Move as imagens de cataratas para a pasta de validação\n",
        "split_data(train_normal, 'processed_images/validation/normal') # Move as imagens normais para a pasta de validação\n",
        "\n",
        "# Verificando a nova divisão\n",
        "validation_normal = 'processed_images/validation/normal'\n",
        "validation_cataract = 'processed_images/validation/cataract'\n",
        "\n",
        "print(\"Nova distribuição:\")\n",
        "print('\\n')\n",
        "print(\"Treino:\")\n",
        "print(f\"Normal: {len(os.listdir(train_normal))}\")\n",
        "print(f\"Catarata: {len(os.listdir(train_cataract))}\")\n",
        "print(\"_\" * 50)\n",
        "print('\\n')\n",
        "\n",
        "print(\"Validação:\")\n",
        "print(f\"Normal: {len(os.listdir(validation_normal))}\")\n",
        "print(f\"Catarata: {len(os.listdir(validation_cataract))}\")\n",
        "print(\"_\" * 50)\n",
        "print('\\n')\n",
        "\n",
        "print(\"Teste:\")\n",
        "print(f\"Normal: {len(os.listdir(test_normal))}\")\n",
        "print(f\"Catarata: {len(os.listdir(test_cataract))}\")"
      ],
      "metadata": {
        "colab": {
          "base_uri": "https://localhost:8080/"
        },
        "id": "OimCTmqEndN5",
        "outputId": "e0f7539d-0ea6-4262-eed9-7c5a9b0c9ecf"
      },
      "execution_count": null,
      "outputs": [
        {
          "output_type": "stream",
          "name": "stdout",
          "text": [
            "Total de imagens em processed_images/train/cataract: 245\n",
            "__________________________________________________\n",
            "\n",
            "\n",
            "Quantidade a ir para processed_images/validation/cataract: 49\n",
            "__________________________________________________\n",
            "\n",
            "\n",
            "Restarão em processed_images/train/cataract: 196\n",
            "__________________________________________________\n",
            "\n",
            "\n",
            "49 imagens movidas para processed_images/validation/cataract\n",
            "Total de imagens em processed_images/train/normal: 246\n",
            "__________________________________________________\n",
            "\n",
            "\n",
            "Quantidade a ir para processed_images/validation/normal: 49\n",
            "__________________________________________________\n",
            "\n",
            "\n",
            "Restarão em processed_images/train/normal: 197\n",
            "__________________________________________________\n",
            "\n",
            "\n",
            "49 imagens movidas para processed_images/validation/normal\n",
            "Nova distribuição:\n",
            "\n",
            "\n",
            "Treino:\n",
            "Normal: 197\n",
            "Catarata: 196\n",
            "__________________________________________________\n",
            "\n",
            "\n",
            "Validação:\n",
            "Normal: 49\n",
            "Catarata: 49\n",
            "__________________________________________________\n",
            "\n",
            "\n",
            "Teste:\n",
            "Normal: 60\n",
            "Catarata: 61\n"
          ]
        }
      ]
    },
    {
      "cell_type": "markdown",
      "source": [
        "### Criando os geradores de dados"
      ],
      "metadata": {
        "id": "51yU59m6pxuZ"
      }
    },
    {
      "cell_type": "code",
      "source": [
        "# Gerador de dados de treino\n",
        "train_datagen = ImageDataGenerator(\n",
        "    rescale = 1./255, # normaliza os valores dos pixels de 0-255 para 0-1\n",
        "    rotation_range = 20, # rotação aleatória em até 20 graus por imagem\n",
        "    width_shift_range = 0.1, # move as imagens horizontalmente em até 10%\n",
        "    height_shift_range = 0.1, # faz o mesmo, porém verticalmente\n",
        "    horizontal_flip = True, # inverte horizontalmente com probabilidade de 50%\n",
        "    zoom_range = 0.1, # zoom aleatório em até 20%\n",
        "    fill_mode= 'nearest' # Preenche os pixels vazios gerados nas rotações e reenquadramentos usando o pixel mais próximo (uma cópia dele)\n",
        ")\n",
        "\n",
        "train_generator = train_datagen.flow_from_directory(\n",
        "    'processed_images/train',\n",
        "    target_size = IMG_SIZE,\n",
        "    batch_size = BATCH_SIZE,\n",
        "    class_mode = 'binary', # duas classes (cataratas -> 0 e normal -> 1)\n",
        "    seed = GENERATOR_SEED,\n",
        "    shuffle = True\n",
        ")\n",
        "\n",
        "# Gerador de dados de validação\n",
        "validation_datagen = ImageDataGenerator(\n",
        "    rescale = 1./255 # apenas reescalando os píxel de 0-1\n",
        ")\n",
        "\n",
        "validation_generator = validation_datagen.flow_from_directory(\n",
        "  'processed_images/validation',\n",
        "  target_size = IMG_SIZE,\n",
        "  batch_size = BATCH_SIZE,\n",
        "  class_mode = 'binary',\n",
        "  seed = GENERATOR_SEED,\n",
        "  shuffle = False # Não há necessidade de embaralhar as imagens na validação\n",
        ")\n",
        "\n",
        "# Gerador de dados de teste\n",
        "test_datagen = ImageDataGenerator(\n",
        "    rescale = 1./255 # apenas reescalando os píxel de 0-1\n",
        ")\n",
        "\n",
        "test_generator = test_datagen.flow_from_directory(\n",
        "    'processed_images/test',\n",
        "    target_size = IMG_SIZE,\n",
        "    batch_size = BATCH_SIZE,\n",
        "    class_mode = 'binary',\n",
        "    seed = GENERATOR_SEED,\n",
        "    shuffle = False # não se deve embaralhar as imagens de teste\n",
        ")"
      ],
      "metadata": {
        "colab": {
          "base_uri": "https://localhost:8080/"
        },
        "id": "tPjDGOcrsHP7",
        "outputId": "a24ab507-ea7c-4819-e17a-0549f47e7f4e"
      },
      "execution_count": null,
      "outputs": [
        {
          "output_type": "stream",
          "name": "stdout",
          "text": [
            "Found 393 images belonging to 2 classes.\n",
            "Found 98 images belonging to 2 classes.\n",
            "Found 121 images belonging to 2 classes.\n"
          ]
        }
      ]
    },
    {
      "cell_type": "markdown",
      "source": [
        "### Verificando se as classes encontradas pelos geradores estão corretas"
      ],
      "metadata": {
        "id": "Ky7YbZx8tzq6"
      }
    },
    {
      "cell_type": "code",
      "source": [
        "print(\"Classes encontradas:\", train_generator.class_indices)\n",
        "print(f\"Imagens de treino encontradas pelo gerador: {train_generator.samples}\")\n",
        "print(f\"Imagens de validação encontradas pelo gerador: {validation_generator.samples}\")\n",
        "print(f\"Imagens de teste encontradas pelo gerador: {test_generator.samples}\")"
      ],
      "metadata": {
        "colab": {
          "base_uri": "https://localhost:8080/"
        },
        "id": "3GTB31n3t34K",
        "outputId": "deac18b2-19b0-4114-f3dd-60b45dae0cfb"
      },
      "execution_count": null,
      "outputs": [
        {
          "output_type": "stream",
          "name": "stdout",
          "text": [
            "Classes encontradas: {'cataract': 0, 'normal': 1}\n",
            "Imagens de treino encontradas pelo gerador: 393\n",
            "Imagens de validação encontradas pelo gerador: 98\n",
            "Imagens de teste encontradas pelo gerador: 121\n"
          ]
        }
      ]
    },
    {
      "cell_type": "markdown",
      "source": [
        "## Obtenção do modelo pré-treinado"
      ],
      "metadata": {
        "id": "iBuoehFdfPHb"
      }
    },
    {
      "cell_type": "markdown",
      "source": [
        "### Parâmetros"
      ],
      "metadata": {
        "id": "ROlhimDevLlH"
      }
    },
    {
      "cell_type": "code",
      "source": [
        "WEIGHTS = 'imagenet' # pesos pré-treinados a serem utilizados\n",
        "INPUT_SHAPE = (224, 224, 3) # formato das imagens de entrada para o modelo"
      ],
      "metadata": {
        "id": "kKkaqjz_vNWG"
      },
      "execution_count": null,
      "outputs": []
    },
    {
      "cell_type": "markdown",
      "source": [
        "### Importando o modelo base"
      ],
      "metadata": {
        "id": "NjvJFEGavEqv"
      }
    },
    {
      "cell_type": "code",
      "source": [
        "base_model = VGG16(\n",
        "    weights = WEIGHTS, # carrega os pesos pré-treinados\n",
        "    include_top = False, # remove a última camada (a que faz a classificação)\n",
        "    input_shape = INPUT_SHAPE # define o formato das imagens de entrada em 224x224 além do RGB (o 3 final)\n",
        ")\n",
        "\n",
        "base_model.trainable = False # Congela as camadas do modelo que importamos do ImageNet (para não treinarmos elas)\n",
        "\n",
        "print(f\"{base_model.name} carregado! Camadas congeladas: {len(base_model.layers)}\")"
      ],
      "metadata": {
        "colab": {
          "base_uri": "https://localhost:8080/"
        },
        "id": "PmhwTXeDvHmA",
        "outputId": "f2d5a1a9-8b34-462e-8fe2-ef3f254212fa"
      },
      "execution_count": null,
      "outputs": [
        {
          "output_type": "stream",
          "name": "stdout",
          "text": [
            "vgg16 carregado! Camadas congeladas: 19\n"
          ]
        }
      ]
    },
    {
      "cell_type": "markdown",
      "source": [
        "### Conhecendo a arquitetura do modelo base"
      ],
      "metadata": {
        "id": "76CUuyYhwBNW"
      }
    },
    {
      "cell_type": "code",
      "source": [
        "print(\"Arquitetura do modelo base:\")\n",
        "base_model.summary()"
      ],
      "metadata": {
        "colab": {
          "base_uri": "https://localhost:8080/",
          "height": 784
        },
        "id": "MBVv3xxRwDkn",
        "outputId": "16ce2804-46a9-4803-a2d1-8d30d3ed01c9"
      },
      "execution_count": null,
      "outputs": [
        {
          "output_type": "stream",
          "name": "stdout",
          "text": [
            "Arquitetura do modelo base:\n"
          ]
        },
        {
          "output_type": "display_data",
          "data": {
            "text/plain": [
              "\u001b[1mModel: \"vgg16\"\u001b[0m\n"
            ],
            "text/html": [
              "<pre style=\"white-space:pre;overflow-x:auto;line-height:normal;font-family:Menlo,'DejaVu Sans Mono',consolas,'Courier New',monospace\"><span style=\"font-weight: bold\">Model: \"vgg16\"</span>\n",
              "</pre>\n"
            ]
          },
          "metadata": {}
        },
        {
          "output_type": "display_data",
          "data": {
            "text/plain": [
              "┏━━━━━━━━━━━━━━━━━━━━━━━━━━━━━━━━━┳━━━━━━━━━━━━━━━━━━━━━━━━┳━━━━━━━━━━━━━━━┓\n",
              "┃\u001b[1m \u001b[0m\u001b[1mLayer (type)                   \u001b[0m\u001b[1m \u001b[0m┃\u001b[1m \u001b[0m\u001b[1mOutput Shape          \u001b[0m\u001b[1m \u001b[0m┃\u001b[1m \u001b[0m\u001b[1m      Param #\u001b[0m\u001b[1m \u001b[0m┃\n",
              "┡━━━━━━━━━━━━━━━━━━━━━━━━━━━━━━━━━╇━━━━━━━━━━━━━━━━━━━━━━━━╇━━━━━━━━━━━━━━━┩\n",
              "│ input_layer_2 (\u001b[38;5;33mInputLayer\u001b[0m)      │ (\u001b[38;5;45mNone\u001b[0m, \u001b[38;5;34m224\u001b[0m, \u001b[38;5;34m224\u001b[0m, \u001b[38;5;34m3\u001b[0m)    │             \u001b[38;5;34m0\u001b[0m │\n",
              "├─────────────────────────────────┼────────────────────────┼───────────────┤\n",
              "│ block1_conv1 (\u001b[38;5;33mConv2D\u001b[0m)           │ (\u001b[38;5;45mNone\u001b[0m, \u001b[38;5;34m224\u001b[0m, \u001b[38;5;34m224\u001b[0m, \u001b[38;5;34m64\u001b[0m)   │         \u001b[38;5;34m1,792\u001b[0m │\n",
              "├─────────────────────────────────┼────────────────────────┼───────────────┤\n",
              "│ block1_conv2 (\u001b[38;5;33mConv2D\u001b[0m)           │ (\u001b[38;5;45mNone\u001b[0m, \u001b[38;5;34m224\u001b[0m, \u001b[38;5;34m224\u001b[0m, \u001b[38;5;34m64\u001b[0m)   │        \u001b[38;5;34m36,928\u001b[0m │\n",
              "├─────────────────────────────────┼────────────────────────┼───────────────┤\n",
              "│ block1_pool (\u001b[38;5;33mMaxPooling2D\u001b[0m)      │ (\u001b[38;5;45mNone\u001b[0m, \u001b[38;5;34m112\u001b[0m, \u001b[38;5;34m112\u001b[0m, \u001b[38;5;34m64\u001b[0m)   │             \u001b[38;5;34m0\u001b[0m │\n",
              "├─────────────────────────────────┼────────────────────────┼───────────────┤\n",
              "│ block2_conv1 (\u001b[38;5;33mConv2D\u001b[0m)           │ (\u001b[38;5;45mNone\u001b[0m, \u001b[38;5;34m112\u001b[0m, \u001b[38;5;34m112\u001b[0m, \u001b[38;5;34m128\u001b[0m)  │        \u001b[38;5;34m73,856\u001b[0m │\n",
              "├─────────────────────────────────┼────────────────────────┼───────────────┤\n",
              "│ block2_conv2 (\u001b[38;5;33mConv2D\u001b[0m)           │ (\u001b[38;5;45mNone\u001b[0m, \u001b[38;5;34m112\u001b[0m, \u001b[38;5;34m112\u001b[0m, \u001b[38;5;34m128\u001b[0m)  │       \u001b[38;5;34m147,584\u001b[0m │\n",
              "├─────────────────────────────────┼────────────────────────┼───────────────┤\n",
              "│ block2_pool (\u001b[38;5;33mMaxPooling2D\u001b[0m)      │ (\u001b[38;5;45mNone\u001b[0m, \u001b[38;5;34m56\u001b[0m, \u001b[38;5;34m56\u001b[0m, \u001b[38;5;34m128\u001b[0m)    │             \u001b[38;5;34m0\u001b[0m │\n",
              "├─────────────────────────────────┼────────────────────────┼───────────────┤\n",
              "│ block3_conv1 (\u001b[38;5;33mConv2D\u001b[0m)           │ (\u001b[38;5;45mNone\u001b[0m, \u001b[38;5;34m56\u001b[0m, \u001b[38;5;34m56\u001b[0m, \u001b[38;5;34m256\u001b[0m)    │       \u001b[38;5;34m295,168\u001b[0m │\n",
              "├─────────────────────────────────┼────────────────────────┼───────────────┤\n",
              "│ block3_conv2 (\u001b[38;5;33mConv2D\u001b[0m)           │ (\u001b[38;5;45mNone\u001b[0m, \u001b[38;5;34m56\u001b[0m, \u001b[38;5;34m56\u001b[0m, \u001b[38;5;34m256\u001b[0m)    │       \u001b[38;5;34m590,080\u001b[0m │\n",
              "├─────────────────────────────────┼────────────────────────┼───────────────┤\n",
              "│ block3_conv3 (\u001b[38;5;33mConv2D\u001b[0m)           │ (\u001b[38;5;45mNone\u001b[0m, \u001b[38;5;34m56\u001b[0m, \u001b[38;5;34m56\u001b[0m, \u001b[38;5;34m256\u001b[0m)    │       \u001b[38;5;34m590,080\u001b[0m │\n",
              "├─────────────────────────────────┼────────────────────────┼───────────────┤\n",
              "│ block3_pool (\u001b[38;5;33mMaxPooling2D\u001b[0m)      │ (\u001b[38;5;45mNone\u001b[0m, \u001b[38;5;34m28\u001b[0m, \u001b[38;5;34m28\u001b[0m, \u001b[38;5;34m256\u001b[0m)    │             \u001b[38;5;34m0\u001b[0m │\n",
              "├─────────────────────────────────┼────────────────────────┼───────────────┤\n",
              "│ block4_conv1 (\u001b[38;5;33mConv2D\u001b[0m)           │ (\u001b[38;5;45mNone\u001b[0m, \u001b[38;5;34m28\u001b[0m, \u001b[38;5;34m28\u001b[0m, \u001b[38;5;34m512\u001b[0m)    │     \u001b[38;5;34m1,180,160\u001b[0m │\n",
              "├─────────────────────────────────┼────────────────────────┼───────────────┤\n",
              "│ block4_conv2 (\u001b[38;5;33mConv2D\u001b[0m)           │ (\u001b[38;5;45mNone\u001b[0m, \u001b[38;5;34m28\u001b[0m, \u001b[38;5;34m28\u001b[0m, \u001b[38;5;34m512\u001b[0m)    │     \u001b[38;5;34m2,359,808\u001b[0m │\n",
              "├─────────────────────────────────┼────────────────────────┼───────────────┤\n",
              "│ block4_conv3 (\u001b[38;5;33mConv2D\u001b[0m)           │ (\u001b[38;5;45mNone\u001b[0m, \u001b[38;5;34m28\u001b[0m, \u001b[38;5;34m28\u001b[0m, \u001b[38;5;34m512\u001b[0m)    │     \u001b[38;5;34m2,359,808\u001b[0m │\n",
              "├─────────────────────────────────┼────────────────────────┼───────────────┤\n",
              "│ block4_pool (\u001b[38;5;33mMaxPooling2D\u001b[0m)      │ (\u001b[38;5;45mNone\u001b[0m, \u001b[38;5;34m14\u001b[0m, \u001b[38;5;34m14\u001b[0m, \u001b[38;5;34m512\u001b[0m)    │             \u001b[38;5;34m0\u001b[0m │\n",
              "├─────────────────────────────────┼────────────────────────┼───────────────┤\n",
              "│ block5_conv1 (\u001b[38;5;33mConv2D\u001b[0m)           │ (\u001b[38;5;45mNone\u001b[0m, \u001b[38;5;34m14\u001b[0m, \u001b[38;5;34m14\u001b[0m, \u001b[38;5;34m512\u001b[0m)    │     \u001b[38;5;34m2,359,808\u001b[0m │\n",
              "├─────────────────────────────────┼────────────────────────┼───────────────┤\n",
              "│ block5_conv2 (\u001b[38;5;33mConv2D\u001b[0m)           │ (\u001b[38;5;45mNone\u001b[0m, \u001b[38;5;34m14\u001b[0m, \u001b[38;5;34m14\u001b[0m, \u001b[38;5;34m512\u001b[0m)    │     \u001b[38;5;34m2,359,808\u001b[0m │\n",
              "├─────────────────────────────────┼────────────────────────┼───────────────┤\n",
              "│ block5_conv3 (\u001b[38;5;33mConv2D\u001b[0m)           │ (\u001b[38;5;45mNone\u001b[0m, \u001b[38;5;34m14\u001b[0m, \u001b[38;5;34m14\u001b[0m, \u001b[38;5;34m512\u001b[0m)    │     \u001b[38;5;34m2,359,808\u001b[0m │\n",
              "├─────────────────────────────────┼────────────────────────┼───────────────┤\n",
              "│ block5_pool (\u001b[38;5;33mMaxPooling2D\u001b[0m)      │ (\u001b[38;5;45mNone\u001b[0m, \u001b[38;5;34m7\u001b[0m, \u001b[38;5;34m7\u001b[0m, \u001b[38;5;34m512\u001b[0m)      │             \u001b[38;5;34m0\u001b[0m │\n",
              "└─────────────────────────────────┴────────────────────────┴───────────────┘\n"
            ],
            "text/html": [
              "<pre style=\"white-space:pre;overflow-x:auto;line-height:normal;font-family:Menlo,'DejaVu Sans Mono',consolas,'Courier New',monospace\">┏━━━━━━━━━━━━━━━━━━━━━━━━━━━━━━━━━┳━━━━━━━━━━━━━━━━━━━━━━━━┳━━━━━━━━━━━━━━━┓\n",
              "┃<span style=\"font-weight: bold\"> Layer (type)                    </span>┃<span style=\"font-weight: bold\"> Output Shape           </span>┃<span style=\"font-weight: bold\">       Param # </span>┃\n",
              "┡━━━━━━━━━━━━━━━━━━━━━━━━━━━━━━━━━╇━━━━━━━━━━━━━━━━━━━━━━━━╇━━━━━━━━━━━━━━━┩\n",
              "│ input_layer_2 (<span style=\"color: #0087ff; text-decoration-color: #0087ff\">InputLayer</span>)      │ (<span style=\"color: #00d7ff; text-decoration-color: #00d7ff\">None</span>, <span style=\"color: #00af00; text-decoration-color: #00af00\">224</span>, <span style=\"color: #00af00; text-decoration-color: #00af00\">224</span>, <span style=\"color: #00af00; text-decoration-color: #00af00\">3</span>)    │             <span style=\"color: #00af00; text-decoration-color: #00af00\">0</span> │\n",
              "├─────────────────────────────────┼────────────────────────┼───────────────┤\n",
              "│ block1_conv1 (<span style=\"color: #0087ff; text-decoration-color: #0087ff\">Conv2D</span>)           │ (<span style=\"color: #00d7ff; text-decoration-color: #00d7ff\">None</span>, <span style=\"color: #00af00; text-decoration-color: #00af00\">224</span>, <span style=\"color: #00af00; text-decoration-color: #00af00\">224</span>, <span style=\"color: #00af00; text-decoration-color: #00af00\">64</span>)   │         <span style=\"color: #00af00; text-decoration-color: #00af00\">1,792</span> │\n",
              "├─────────────────────────────────┼────────────────────────┼───────────────┤\n",
              "│ block1_conv2 (<span style=\"color: #0087ff; text-decoration-color: #0087ff\">Conv2D</span>)           │ (<span style=\"color: #00d7ff; text-decoration-color: #00d7ff\">None</span>, <span style=\"color: #00af00; text-decoration-color: #00af00\">224</span>, <span style=\"color: #00af00; text-decoration-color: #00af00\">224</span>, <span style=\"color: #00af00; text-decoration-color: #00af00\">64</span>)   │        <span style=\"color: #00af00; text-decoration-color: #00af00\">36,928</span> │\n",
              "├─────────────────────────────────┼────────────────────────┼───────────────┤\n",
              "│ block1_pool (<span style=\"color: #0087ff; text-decoration-color: #0087ff\">MaxPooling2D</span>)      │ (<span style=\"color: #00d7ff; text-decoration-color: #00d7ff\">None</span>, <span style=\"color: #00af00; text-decoration-color: #00af00\">112</span>, <span style=\"color: #00af00; text-decoration-color: #00af00\">112</span>, <span style=\"color: #00af00; text-decoration-color: #00af00\">64</span>)   │             <span style=\"color: #00af00; text-decoration-color: #00af00\">0</span> │\n",
              "├─────────────────────────────────┼────────────────────────┼───────────────┤\n",
              "│ block2_conv1 (<span style=\"color: #0087ff; text-decoration-color: #0087ff\">Conv2D</span>)           │ (<span style=\"color: #00d7ff; text-decoration-color: #00d7ff\">None</span>, <span style=\"color: #00af00; text-decoration-color: #00af00\">112</span>, <span style=\"color: #00af00; text-decoration-color: #00af00\">112</span>, <span style=\"color: #00af00; text-decoration-color: #00af00\">128</span>)  │        <span style=\"color: #00af00; text-decoration-color: #00af00\">73,856</span> │\n",
              "├─────────────────────────────────┼────────────────────────┼───────────────┤\n",
              "│ block2_conv2 (<span style=\"color: #0087ff; text-decoration-color: #0087ff\">Conv2D</span>)           │ (<span style=\"color: #00d7ff; text-decoration-color: #00d7ff\">None</span>, <span style=\"color: #00af00; text-decoration-color: #00af00\">112</span>, <span style=\"color: #00af00; text-decoration-color: #00af00\">112</span>, <span style=\"color: #00af00; text-decoration-color: #00af00\">128</span>)  │       <span style=\"color: #00af00; text-decoration-color: #00af00\">147,584</span> │\n",
              "├─────────────────────────────────┼────────────────────────┼───────────────┤\n",
              "│ block2_pool (<span style=\"color: #0087ff; text-decoration-color: #0087ff\">MaxPooling2D</span>)      │ (<span style=\"color: #00d7ff; text-decoration-color: #00d7ff\">None</span>, <span style=\"color: #00af00; text-decoration-color: #00af00\">56</span>, <span style=\"color: #00af00; text-decoration-color: #00af00\">56</span>, <span style=\"color: #00af00; text-decoration-color: #00af00\">128</span>)    │             <span style=\"color: #00af00; text-decoration-color: #00af00\">0</span> │\n",
              "├─────────────────────────────────┼────────────────────────┼───────────────┤\n",
              "│ block3_conv1 (<span style=\"color: #0087ff; text-decoration-color: #0087ff\">Conv2D</span>)           │ (<span style=\"color: #00d7ff; text-decoration-color: #00d7ff\">None</span>, <span style=\"color: #00af00; text-decoration-color: #00af00\">56</span>, <span style=\"color: #00af00; text-decoration-color: #00af00\">56</span>, <span style=\"color: #00af00; text-decoration-color: #00af00\">256</span>)    │       <span style=\"color: #00af00; text-decoration-color: #00af00\">295,168</span> │\n",
              "├─────────────────────────────────┼────────────────────────┼───────────────┤\n",
              "│ block3_conv2 (<span style=\"color: #0087ff; text-decoration-color: #0087ff\">Conv2D</span>)           │ (<span style=\"color: #00d7ff; text-decoration-color: #00d7ff\">None</span>, <span style=\"color: #00af00; text-decoration-color: #00af00\">56</span>, <span style=\"color: #00af00; text-decoration-color: #00af00\">56</span>, <span style=\"color: #00af00; text-decoration-color: #00af00\">256</span>)    │       <span style=\"color: #00af00; text-decoration-color: #00af00\">590,080</span> │\n",
              "├─────────────────────────────────┼────────────────────────┼───────────────┤\n",
              "│ block3_conv3 (<span style=\"color: #0087ff; text-decoration-color: #0087ff\">Conv2D</span>)           │ (<span style=\"color: #00d7ff; text-decoration-color: #00d7ff\">None</span>, <span style=\"color: #00af00; text-decoration-color: #00af00\">56</span>, <span style=\"color: #00af00; text-decoration-color: #00af00\">56</span>, <span style=\"color: #00af00; text-decoration-color: #00af00\">256</span>)    │       <span style=\"color: #00af00; text-decoration-color: #00af00\">590,080</span> │\n",
              "├─────────────────────────────────┼────────────────────────┼───────────────┤\n",
              "│ block3_pool (<span style=\"color: #0087ff; text-decoration-color: #0087ff\">MaxPooling2D</span>)      │ (<span style=\"color: #00d7ff; text-decoration-color: #00d7ff\">None</span>, <span style=\"color: #00af00; text-decoration-color: #00af00\">28</span>, <span style=\"color: #00af00; text-decoration-color: #00af00\">28</span>, <span style=\"color: #00af00; text-decoration-color: #00af00\">256</span>)    │             <span style=\"color: #00af00; text-decoration-color: #00af00\">0</span> │\n",
              "├─────────────────────────────────┼────────────────────────┼───────────────┤\n",
              "│ block4_conv1 (<span style=\"color: #0087ff; text-decoration-color: #0087ff\">Conv2D</span>)           │ (<span style=\"color: #00d7ff; text-decoration-color: #00d7ff\">None</span>, <span style=\"color: #00af00; text-decoration-color: #00af00\">28</span>, <span style=\"color: #00af00; text-decoration-color: #00af00\">28</span>, <span style=\"color: #00af00; text-decoration-color: #00af00\">512</span>)    │     <span style=\"color: #00af00; text-decoration-color: #00af00\">1,180,160</span> │\n",
              "├─────────────────────────────────┼────────────────────────┼───────────────┤\n",
              "│ block4_conv2 (<span style=\"color: #0087ff; text-decoration-color: #0087ff\">Conv2D</span>)           │ (<span style=\"color: #00d7ff; text-decoration-color: #00d7ff\">None</span>, <span style=\"color: #00af00; text-decoration-color: #00af00\">28</span>, <span style=\"color: #00af00; text-decoration-color: #00af00\">28</span>, <span style=\"color: #00af00; text-decoration-color: #00af00\">512</span>)    │     <span style=\"color: #00af00; text-decoration-color: #00af00\">2,359,808</span> │\n",
              "├─────────────────────────────────┼────────────────────────┼───────────────┤\n",
              "│ block4_conv3 (<span style=\"color: #0087ff; text-decoration-color: #0087ff\">Conv2D</span>)           │ (<span style=\"color: #00d7ff; text-decoration-color: #00d7ff\">None</span>, <span style=\"color: #00af00; text-decoration-color: #00af00\">28</span>, <span style=\"color: #00af00; text-decoration-color: #00af00\">28</span>, <span style=\"color: #00af00; text-decoration-color: #00af00\">512</span>)    │     <span style=\"color: #00af00; text-decoration-color: #00af00\">2,359,808</span> │\n",
              "├─────────────────────────────────┼────────────────────────┼───────────────┤\n",
              "│ block4_pool (<span style=\"color: #0087ff; text-decoration-color: #0087ff\">MaxPooling2D</span>)      │ (<span style=\"color: #00d7ff; text-decoration-color: #00d7ff\">None</span>, <span style=\"color: #00af00; text-decoration-color: #00af00\">14</span>, <span style=\"color: #00af00; text-decoration-color: #00af00\">14</span>, <span style=\"color: #00af00; text-decoration-color: #00af00\">512</span>)    │             <span style=\"color: #00af00; text-decoration-color: #00af00\">0</span> │\n",
              "├─────────────────────────────────┼────────────────────────┼───────────────┤\n",
              "│ block5_conv1 (<span style=\"color: #0087ff; text-decoration-color: #0087ff\">Conv2D</span>)           │ (<span style=\"color: #00d7ff; text-decoration-color: #00d7ff\">None</span>, <span style=\"color: #00af00; text-decoration-color: #00af00\">14</span>, <span style=\"color: #00af00; text-decoration-color: #00af00\">14</span>, <span style=\"color: #00af00; text-decoration-color: #00af00\">512</span>)    │     <span style=\"color: #00af00; text-decoration-color: #00af00\">2,359,808</span> │\n",
              "├─────────────────────────────────┼────────────────────────┼───────────────┤\n",
              "│ block5_conv2 (<span style=\"color: #0087ff; text-decoration-color: #0087ff\">Conv2D</span>)           │ (<span style=\"color: #00d7ff; text-decoration-color: #00d7ff\">None</span>, <span style=\"color: #00af00; text-decoration-color: #00af00\">14</span>, <span style=\"color: #00af00; text-decoration-color: #00af00\">14</span>, <span style=\"color: #00af00; text-decoration-color: #00af00\">512</span>)    │     <span style=\"color: #00af00; text-decoration-color: #00af00\">2,359,808</span> │\n",
              "├─────────────────────────────────┼────────────────────────┼───────────────┤\n",
              "│ block5_conv3 (<span style=\"color: #0087ff; text-decoration-color: #0087ff\">Conv2D</span>)           │ (<span style=\"color: #00d7ff; text-decoration-color: #00d7ff\">None</span>, <span style=\"color: #00af00; text-decoration-color: #00af00\">14</span>, <span style=\"color: #00af00; text-decoration-color: #00af00\">14</span>, <span style=\"color: #00af00; text-decoration-color: #00af00\">512</span>)    │     <span style=\"color: #00af00; text-decoration-color: #00af00\">2,359,808</span> │\n",
              "├─────────────────────────────────┼────────────────────────┼───────────────┤\n",
              "│ block5_pool (<span style=\"color: #0087ff; text-decoration-color: #0087ff\">MaxPooling2D</span>)      │ (<span style=\"color: #00d7ff; text-decoration-color: #00d7ff\">None</span>, <span style=\"color: #00af00; text-decoration-color: #00af00\">7</span>, <span style=\"color: #00af00; text-decoration-color: #00af00\">7</span>, <span style=\"color: #00af00; text-decoration-color: #00af00\">512</span>)      │             <span style=\"color: #00af00; text-decoration-color: #00af00\">0</span> │\n",
              "└─────────────────────────────────┴────────────────────────┴───────────────┘\n",
              "</pre>\n"
            ]
          },
          "metadata": {}
        },
        {
          "output_type": "display_data",
          "data": {
            "text/plain": [
              "\u001b[1m Total params: \u001b[0m\u001b[38;5;34m14,714,688\u001b[0m (56.13 MB)\n"
            ],
            "text/html": [
              "<pre style=\"white-space:pre;overflow-x:auto;line-height:normal;font-family:Menlo,'DejaVu Sans Mono',consolas,'Courier New',monospace\"><span style=\"font-weight: bold\"> Total params: </span><span style=\"color: #00af00; text-decoration-color: #00af00\">14,714,688</span> (56.13 MB)\n",
              "</pre>\n"
            ]
          },
          "metadata": {}
        },
        {
          "output_type": "display_data",
          "data": {
            "text/plain": [
              "\u001b[1m Trainable params: \u001b[0m\u001b[38;5;34m0\u001b[0m (0.00 B)\n"
            ],
            "text/html": [
              "<pre style=\"white-space:pre;overflow-x:auto;line-height:normal;font-family:Menlo,'DejaVu Sans Mono',consolas,'Courier New',monospace\"><span style=\"font-weight: bold\"> Trainable params: </span><span style=\"color: #00af00; text-decoration-color: #00af00\">0</span> (0.00 B)\n",
              "</pre>\n"
            ]
          },
          "metadata": {}
        },
        {
          "output_type": "display_data",
          "data": {
            "text/plain": [
              "\u001b[1m Non-trainable params: \u001b[0m\u001b[38;5;34m14,714,688\u001b[0m (56.13 MB)\n"
            ],
            "text/html": [
              "<pre style=\"white-space:pre;overflow-x:auto;line-height:normal;font-family:Menlo,'DejaVu Sans Mono',consolas,'Courier New',monospace\"><span style=\"font-weight: bold\"> Non-trainable params: </span><span style=\"color: #00af00; text-decoration-color: #00af00\">14,714,688</span> (56.13 MB)\n",
              "</pre>\n"
            ]
          },
          "metadata": {}
        }
      ]
    },
    {
      "cell_type": "markdown",
      "source": [
        "## Personalizando o modelo"
      ],
      "metadata": {
        "id": "QnNleNSFwc5J"
      }
    },
    {
      "cell_type": "markdown",
      "source": [
        "### Parâmetros"
      ],
      "metadata": {
        "id": "iZ06AZiCyf80"
      }
    },
    {
      "cell_type": "code",
      "source": [
        "BASE_LEARNING_RATE = 0.0001 # Taxa de aprendizado inicial. Sugestão do professor, deixar em 10e-4\n",
        "\n",
        "# Métricas de validação a serem salvas. A sugestão do professor de medir o f1_score foi implementada posteriormente com scikit_learn pois é um cálculo partindo do recall e da precisão\n",
        "METRICS = ['accuracy', 'precision', 'recall']"
      ],
      "metadata": {
        "id": "fEVfiDyNyhVu"
      },
      "execution_count": null,
      "outputs": []
    },
    {
      "cell_type": "markdown",
      "source": [
        "### Escolhendo as camadas personalizadas"
      ],
      "metadata": {
        "id": "cxMU61xGw0Fy"
      }
    },
    {
      "cell_type": "code",
      "source": [
        "inputs = keras.Input(shape = INPUT_SHAPE)\n",
        "aux = base_model(inputs, training = False) # Passando o modelo para uma variável auxiliar onde adicionaremos as camadas personalizadas\n",
        "\n",
        "# Camadas\n",
        "aux = GlobalAveragePooling2D()(aux) # Converte as features (características) 2D em 1D (para criar um vetor no lugar da matriz)\n",
        "aux = Dropout(0.3)(aux) # Removendo 50% dos neurônios para evitar o overfitting. Os neurônios removidos são das camadas novas e são removidos só no treino. No teste e validação eles participam. Dropout reduzido para 0.3 como sugestão do professor\n",
        "aux = Dense(128, activation = 'relu')(aux) # Camada densa com 128 neurônios e função Relu de ativação\n",
        "aux = Dropout(0.3)(aux) # Outro dropout. Dropout reduzido para 0.15 após teste de limite de dropout sem overffiting. Sugestão do professor\n",
        "outputs = Dense(1, activation = 'sigmoid')(aux) # Camada de saída com apenas 1 neurônio e função de ativação sigmoid para sair de 0-1 (probabilidade de catarata)"
      ],
      "metadata": {
        "id": "e5MwgrhkxK9V"
      },
      "execution_count": null,
      "outputs": []
    },
    {
      "cell_type": "markdown",
      "source": [
        "### Criando o modelo personalizado com as camadas novas"
      ],
      "metadata": {
        "id": "GaRJVEBOx0sJ"
      }
    },
    {
      "cell_type": "code",
      "source": [
        "model = Model(inputs, outputs)\n",
        "print(\"Modelo criado com sucesso!\")"
      ],
      "metadata": {
        "colab": {
          "base_uri": "https://localhost:8080/"
        },
        "id": "0SF8VbJPx6wI",
        "outputId": "7c1ff73d-334e-4c78-9467-9f27a457a69b"
      },
      "execution_count": null,
      "outputs": [
        {
          "output_type": "stream",
          "name": "stdout",
          "text": [
            "Modelo criado com sucesso!\n"
          ]
        }
      ]
    },
    {
      "cell_type": "markdown",
      "source": [
        "### Compilando o modelo criado"
      ],
      "metadata": {
        "id": "UmsilUJ2yFgD"
      }
    },
    {
      "cell_type": "code",
      "source": [
        "model.compile(\n",
        "    optimizer = keras.optimizers.Adam(learning_rate= BASE_LEARNING_RATE),\n",
        "    loss = 'binary_crossentropy',\n",
        "    metrics = METRICS\n",
        ")\n",
        "\n",
        "print(\"Modelo compilado com sucesso!\")\n",
        "model.summary()"
      ],
      "metadata": {
        "colab": {
          "base_uri": "https://localhost:8080/",
          "height": 401
        },
        "id": "NG_HPf7GyHy3",
        "outputId": "d0ec4f9d-93b3-4a60-a829-fdad97e51523"
      },
      "execution_count": null,
      "outputs": [
        {
          "output_type": "stream",
          "name": "stdout",
          "text": [
            "Modelo compilado com sucesso!\n"
          ]
        },
        {
          "output_type": "display_data",
          "data": {
            "text/plain": [
              "\u001b[1mModel: \"functional_1\"\u001b[0m\n"
            ],
            "text/html": [
              "<pre style=\"white-space:pre;overflow-x:auto;line-height:normal;font-family:Menlo,'DejaVu Sans Mono',consolas,'Courier New',monospace\"><span style=\"font-weight: bold\">Model: \"functional_1\"</span>\n",
              "</pre>\n"
            ]
          },
          "metadata": {}
        },
        {
          "output_type": "display_data",
          "data": {
            "text/plain": [
              "┏━━━━━━━━━━━━━━━━━━━━━━━━━━━━━━━━━┳━━━━━━━━━━━━━━━━━━━━━━━━┳━━━━━━━━━━━━━━━┓\n",
              "┃\u001b[1m \u001b[0m\u001b[1mLayer (type)                   \u001b[0m\u001b[1m \u001b[0m┃\u001b[1m \u001b[0m\u001b[1mOutput Shape          \u001b[0m\u001b[1m \u001b[0m┃\u001b[1m \u001b[0m\u001b[1m      Param #\u001b[0m\u001b[1m \u001b[0m┃\n",
              "┡━━━━━━━━━━━━━━━━━━━━━━━━━━━━━━━━━╇━━━━━━━━━━━━━━━━━━━━━━━━╇━━━━━━━━━━━━━━━┩\n",
              "│ input_layer_3 (\u001b[38;5;33mInputLayer\u001b[0m)      │ (\u001b[38;5;45mNone\u001b[0m, \u001b[38;5;34m224\u001b[0m, \u001b[38;5;34m224\u001b[0m, \u001b[38;5;34m3\u001b[0m)    │             \u001b[38;5;34m0\u001b[0m │\n",
              "├─────────────────────────────────┼────────────────────────┼───────────────┤\n",
              "│ vgg16 (\u001b[38;5;33mFunctional\u001b[0m)              │ (\u001b[38;5;45mNone\u001b[0m, \u001b[38;5;34m7\u001b[0m, \u001b[38;5;34m7\u001b[0m, \u001b[38;5;34m512\u001b[0m)      │    \u001b[38;5;34m14,714,688\u001b[0m │\n",
              "├─────────────────────────────────┼────────────────────────┼───────────────┤\n",
              "│ global_average_pooling2d_1      │ (\u001b[38;5;45mNone\u001b[0m, \u001b[38;5;34m512\u001b[0m)            │             \u001b[38;5;34m0\u001b[0m │\n",
              "│ (\u001b[38;5;33mGlobalAveragePooling2D\u001b[0m)        │                        │               │\n",
              "├─────────────────────────────────┼────────────────────────┼───────────────┤\n",
              "│ dropout_2 (\u001b[38;5;33mDropout\u001b[0m)             │ (\u001b[38;5;45mNone\u001b[0m, \u001b[38;5;34m512\u001b[0m)            │             \u001b[38;5;34m0\u001b[0m │\n",
              "├─────────────────────────────────┼────────────────────────┼───────────────┤\n",
              "│ dense_2 (\u001b[38;5;33mDense\u001b[0m)                 │ (\u001b[38;5;45mNone\u001b[0m, \u001b[38;5;34m128\u001b[0m)            │        \u001b[38;5;34m65,664\u001b[0m │\n",
              "├─────────────────────────────────┼────────────────────────┼───────────────┤\n",
              "│ dropout_3 (\u001b[38;5;33mDropout\u001b[0m)             │ (\u001b[38;5;45mNone\u001b[0m, \u001b[38;5;34m128\u001b[0m)            │             \u001b[38;5;34m0\u001b[0m │\n",
              "├─────────────────────────────────┼────────────────────────┼───────────────┤\n",
              "│ dense_3 (\u001b[38;5;33mDense\u001b[0m)                 │ (\u001b[38;5;45mNone\u001b[0m, \u001b[38;5;34m1\u001b[0m)              │           \u001b[38;5;34m129\u001b[0m │\n",
              "└─────────────────────────────────┴────────────────────────┴───────────────┘\n"
            ],
            "text/html": [
              "<pre style=\"white-space:pre;overflow-x:auto;line-height:normal;font-family:Menlo,'DejaVu Sans Mono',consolas,'Courier New',monospace\">┏━━━━━━━━━━━━━━━━━━━━━━━━━━━━━━━━━┳━━━━━━━━━━━━━━━━━━━━━━━━┳━━━━━━━━━━━━━━━┓\n",
              "┃<span style=\"font-weight: bold\"> Layer (type)                    </span>┃<span style=\"font-weight: bold\"> Output Shape           </span>┃<span style=\"font-weight: bold\">       Param # </span>┃\n",
              "┡━━━━━━━━━━━━━━━━━━━━━━━━━━━━━━━━━╇━━━━━━━━━━━━━━━━━━━━━━━━╇━━━━━━━━━━━━━━━┩\n",
              "│ input_layer_3 (<span style=\"color: #0087ff; text-decoration-color: #0087ff\">InputLayer</span>)      │ (<span style=\"color: #00d7ff; text-decoration-color: #00d7ff\">None</span>, <span style=\"color: #00af00; text-decoration-color: #00af00\">224</span>, <span style=\"color: #00af00; text-decoration-color: #00af00\">224</span>, <span style=\"color: #00af00; text-decoration-color: #00af00\">3</span>)    │             <span style=\"color: #00af00; text-decoration-color: #00af00\">0</span> │\n",
              "├─────────────────────────────────┼────────────────────────┼───────────────┤\n",
              "│ vgg16 (<span style=\"color: #0087ff; text-decoration-color: #0087ff\">Functional</span>)              │ (<span style=\"color: #00d7ff; text-decoration-color: #00d7ff\">None</span>, <span style=\"color: #00af00; text-decoration-color: #00af00\">7</span>, <span style=\"color: #00af00; text-decoration-color: #00af00\">7</span>, <span style=\"color: #00af00; text-decoration-color: #00af00\">512</span>)      │    <span style=\"color: #00af00; text-decoration-color: #00af00\">14,714,688</span> │\n",
              "├─────────────────────────────────┼────────────────────────┼───────────────┤\n",
              "│ global_average_pooling2d_1      │ (<span style=\"color: #00d7ff; text-decoration-color: #00d7ff\">None</span>, <span style=\"color: #00af00; text-decoration-color: #00af00\">512</span>)            │             <span style=\"color: #00af00; text-decoration-color: #00af00\">0</span> │\n",
              "│ (<span style=\"color: #0087ff; text-decoration-color: #0087ff\">GlobalAveragePooling2D</span>)        │                        │               │\n",
              "├─────────────────────────────────┼────────────────────────┼───────────────┤\n",
              "│ dropout_2 (<span style=\"color: #0087ff; text-decoration-color: #0087ff\">Dropout</span>)             │ (<span style=\"color: #00d7ff; text-decoration-color: #00d7ff\">None</span>, <span style=\"color: #00af00; text-decoration-color: #00af00\">512</span>)            │             <span style=\"color: #00af00; text-decoration-color: #00af00\">0</span> │\n",
              "├─────────────────────────────────┼────────────────────────┼───────────────┤\n",
              "│ dense_2 (<span style=\"color: #0087ff; text-decoration-color: #0087ff\">Dense</span>)                 │ (<span style=\"color: #00d7ff; text-decoration-color: #00d7ff\">None</span>, <span style=\"color: #00af00; text-decoration-color: #00af00\">128</span>)            │        <span style=\"color: #00af00; text-decoration-color: #00af00\">65,664</span> │\n",
              "├─────────────────────────────────┼────────────────────────┼───────────────┤\n",
              "│ dropout_3 (<span style=\"color: #0087ff; text-decoration-color: #0087ff\">Dropout</span>)             │ (<span style=\"color: #00d7ff; text-decoration-color: #00d7ff\">None</span>, <span style=\"color: #00af00; text-decoration-color: #00af00\">128</span>)            │             <span style=\"color: #00af00; text-decoration-color: #00af00\">0</span> │\n",
              "├─────────────────────────────────┼────────────────────────┼───────────────┤\n",
              "│ dense_3 (<span style=\"color: #0087ff; text-decoration-color: #0087ff\">Dense</span>)                 │ (<span style=\"color: #00d7ff; text-decoration-color: #00d7ff\">None</span>, <span style=\"color: #00af00; text-decoration-color: #00af00\">1</span>)              │           <span style=\"color: #00af00; text-decoration-color: #00af00\">129</span> │\n",
              "└─────────────────────────────────┴────────────────────────┴───────────────┘\n",
              "</pre>\n"
            ]
          },
          "metadata": {}
        },
        {
          "output_type": "display_data",
          "data": {
            "text/plain": [
              "\u001b[1m Total params: \u001b[0m\u001b[38;5;34m14,780,481\u001b[0m (56.38 MB)\n"
            ],
            "text/html": [
              "<pre style=\"white-space:pre;overflow-x:auto;line-height:normal;font-family:Menlo,'DejaVu Sans Mono',consolas,'Courier New',monospace\"><span style=\"font-weight: bold\"> Total params: </span><span style=\"color: #00af00; text-decoration-color: #00af00\">14,780,481</span> (56.38 MB)\n",
              "</pre>\n"
            ]
          },
          "metadata": {}
        },
        {
          "output_type": "display_data",
          "data": {
            "text/plain": [
              "\u001b[1m Trainable params: \u001b[0m\u001b[38;5;34m65,793\u001b[0m (257.00 KB)\n"
            ],
            "text/html": [
              "<pre style=\"white-space:pre;overflow-x:auto;line-height:normal;font-family:Menlo,'DejaVu Sans Mono',consolas,'Courier New',monospace\"><span style=\"font-weight: bold\"> Trainable params: </span><span style=\"color: #00af00; text-decoration-color: #00af00\">65,793</span> (257.00 KB)\n",
              "</pre>\n"
            ]
          },
          "metadata": {}
        },
        {
          "output_type": "display_data",
          "data": {
            "text/plain": [
              "\u001b[1m Non-trainable params: \u001b[0m\u001b[38;5;34m14,714,688\u001b[0m (56.13 MB)\n"
            ],
            "text/html": [
              "<pre style=\"white-space:pre;overflow-x:auto;line-height:normal;font-family:Menlo,'DejaVu Sans Mono',consolas,'Courier New',monospace\"><span style=\"font-weight: bold\"> Non-trainable params: </span><span style=\"color: #00af00; text-decoration-color: #00af00\">14,714,688</span> (56.13 MB)\n",
              "</pre>\n"
            ]
          },
          "metadata": {}
        }
      ]
    },
    {
      "cell_type": "markdown",
      "source": [
        "## Treinamento do modelo"
      ],
      "metadata": {
        "id": "FbKVcWwvfTTQ"
      }
    },
    {
      "cell_type": "markdown",
      "source": [
        "### Parâmetros"
      ],
      "metadata": {
        "id": "4JMCRPM9zoLn"
      }
    },
    {
      "cell_type": "code",
      "source": [
        "EARLY_STOP_PATIENCE = 20 # Número de épocas sem melhora para o early stopping\n",
        "EARLY_STOP_METRIC = 'val_accuracy' # Métrica a ser monitorada para o early stopping. Avaliar a proporção entre recall e acurácia também, não só uma métrica única\n",
        "EARLY_STOP_MODE = 'max' # Diz o que espero da métrica (maximizar ou minimizar)\n",
        "MAX_EPOCHS = 90 # Número máximo de épocas para o treinamento"
      ],
      "metadata": {
        "id": "QsU42ut2zmBM"
      },
      "execution_count": null,
      "outputs": []
    },
    {
      "cell_type": "markdown",
      "source": [
        "### Escolhendo e configurando os callbacks"
      ],
      "metadata": {
        "id": "2pg-iWf-zbst"
      }
    },
    {
      "cell_type": "code",
      "source": [
        "early_stopping = EarlyStopping( # Para quando o treinamento não melhora mais o modelo\n",
        "    monitor = EARLY_STOP_METRIC, # Monitora o recall na validação (já que é a métrica que estamos interessados)\n",
        "    patience = EARLY_STOP_PATIENCE, # Ele espera até x épocas sem nenhuma melhora\n",
        "    restore_best_weights = True, # Restaura os pesos do melhor modelo encontrado durante o treinamento\n",
        "    mode = EARLY_STOP_MODE, # Dizendo que o que estamos olhando é para a maximização do recall\n",
        "    verbose = 1 # é para mostrar a barra de progresso\n",
        ")\n",
        "\n",
        "checkpoint = ModelCheckpoint( # Salva o melhor modelo obtido no treinamento\n",
        "    f'best_model_{base_model.name}.keras', # nome que ele vai usar para salvar o checkpoint\n",
        "    monitor = EARLY_STOP_METRIC, # Salva quando o recall melhora (métrica que queremos maximizar)\n",
        "    save_best_only = True, # Só salva quando melhora\n",
        "    mode = EARLY_STOP_MODE, # Queremos maximizar o recall\n",
        "    verbose = 1\n",
        ")\n",
        "\n",
        "reduce_lr = ReduceLROnPlateau( # Isso reduz o learning rate do otimizador Adam quando chegamos num platô de aprendizagem (empaca)\n",
        "    monitor = 'val_loss', # Monitora a perda na validação para verificar se a perda não está mudando (tendendo a um platô)\n",
        "    factor = 0.2, # Quando acontecer, ele reduz a taxa de aprendizagem em 20%\n",
        "    patience = 3, # Espera 3 épocas sem melhora\n",
        "    min_lr = 0.000001, # Esse é o menor learning rate aceito\n",
        "    verbose = 1\n",
        ")\n"
      ],
      "metadata": {
        "id": "t4L0HNTQzh9T"
      },
      "execution_count": null,
      "outputs": []
    },
    {
      "cell_type": "markdown",
      "source": [
        "### Treinando o modelo"
      ],
      "metadata": {
        "id": "3x_QROXP0znt"
      }
    },
    {
      "cell_type": "code",
      "source": [
        "history = model.fit( # fit é o treinamento de fato\n",
        "    train_generator, # os dados que geramos para treino\n",
        "    epochs = MAX_EPOCHS, # quantidade máxima de épocas\n",
        "    validation_data = validation_generator, # dados que geramos para validação\n",
        "    callbacks = [early_stopping, reduce_lr, checkpoint], # callbacks que serão monitorados\n",
        "    verbose = 1\n",
        ")\n",
        "\n",
        "print(\"Treinamento concluído!\")"
      ],
      "metadata": {
        "colab": {
          "base_uri": "https://localhost:8080/"
        },
        "id": "6plaiNzk02No",
        "outputId": "f3c93d99-3a64-4db4-c52c-b26f4e6f3a24"
      },
      "execution_count": null,
      "outputs": [
        {
          "output_type": "stream",
          "name": "stderr",
          "text": [
            "/usr/local/lib/python3.12/dist-packages/keras/src/trainers/data_adapters/py_dataset_adapter.py:121: UserWarning: Your `PyDataset` class should call `super().__init__(**kwargs)` in its constructor. `**kwargs` can include `workers`, `use_multiprocessing`, `max_queue_size`. Do not pass these arguments to `fit()`, as they will be ignored.\n",
            "  self._warn_if_super_not_called()\n"
          ]
        },
        {
          "output_type": "stream",
          "name": "stdout",
          "text": [
            "Epoch 1/90\n",
            "\u001b[1m13/13\u001b[0m \u001b[32m━━━━━━━━━━━━━━━━━━━━\u001b[0m\u001b[37m\u001b[0m \u001b[1m0s\u001b[0m 1s/step - accuracy: 0.4961 - loss: 0.7545 - precision: 0.4769 - recall: 0.3696\n",
            "Epoch 1: val_accuracy improved from -inf to 0.57143, saving model to best_model_vgg16.keras\n",
            "\u001b[1m13/13\u001b[0m \u001b[32m━━━━━━━━━━━━━━━━━━━━\u001b[0m\u001b[37m\u001b[0m \u001b[1m27s\u001b[0m 2s/step - accuracy: 0.4963 - loss: 0.7538 - precision: 0.4785 - recall: 0.3791 - val_accuracy: 0.5714 - val_loss: 0.6116 - val_precision: 0.8889 - val_recall: 0.1633 - learning_rate: 0.0010\n",
            "Epoch 2/90\n",
            "\u001b[1m13/13\u001b[0m \u001b[32m━━━━━━━━━━━━━━━━━━━━\u001b[0m\u001b[37m\u001b[0m \u001b[1m0s\u001b[0m 1s/step - accuracy: 0.6406 - loss: 0.6192 - precision: 0.6635 - recall: 0.6584\n",
            "Epoch 2: val_accuracy improved from 0.57143 to 0.81633, saving model to best_model_vgg16.keras\n",
            "\u001b[1m13/13\u001b[0m \u001b[32m━━━━━━━━━━━━━━━━━━━━\u001b[0m\u001b[37m\u001b[0m \u001b[1m18s\u001b[0m 1s/step - accuracy: 0.6426 - loss: 0.6179 - precision: 0.6641 - recall: 0.6588 - val_accuracy: 0.8163 - val_loss: 0.5228 - val_precision: 0.7627 - val_recall: 0.9184 - learning_rate: 0.0010\n",
            "Epoch 3/90\n",
            "\u001b[1m13/13\u001b[0m \u001b[32m━━━━━━━━━━━━━━━━━━━━\u001b[0m\u001b[37m\u001b[0m \u001b[1m0s\u001b[0m 1s/step - accuracy: 0.6895 - loss: 0.6001 - precision: 0.6676 - recall: 0.7474\n",
            "Epoch 3: val_accuracy improved from 0.81633 to 0.83673, saving model to best_model_vgg16.keras\n",
            "\u001b[1m13/13\u001b[0m \u001b[32m━━━━━━━━━━━━━━━━━━━━\u001b[0m\u001b[37m\u001b[0m \u001b[1m21s\u001b[0m 1s/step - accuracy: 0.6915 - loss: 0.5980 - precision: 0.6700 - recall: 0.7484 - val_accuracy: 0.8367 - val_loss: 0.4771 - val_precision: 0.8511 - val_recall: 0.8163 - learning_rate: 0.0010\n",
            "Epoch 4/90\n",
            "\u001b[1m13/13\u001b[0m \u001b[32m━━━━━━━━━━━━━━━━━━━━\u001b[0m\u001b[37m\u001b[0m \u001b[1m0s\u001b[0m 1s/step - accuracy: 0.7250 - loss: 0.5565 - precision: 0.7359 - recall: 0.6938\n",
            "Epoch 4: val_accuracy did not improve from 0.83673\n",
            "\u001b[1m13/13\u001b[0m \u001b[32m━━━━━━━━━━━━━━━━━━━━\u001b[0m\u001b[37m\u001b[0m \u001b[1m18s\u001b[0m 1s/step - accuracy: 0.7259 - loss: 0.5547 - precision: 0.7353 - recall: 0.6986 - val_accuracy: 0.8061 - val_loss: 0.4352 - val_precision: 0.7419 - val_recall: 0.9388 - learning_rate: 0.0010\n",
            "Epoch 5/90\n",
            "\u001b[1m13/13\u001b[0m \u001b[32m━━━━━━━━━━━━━━━━━━━━\u001b[0m\u001b[37m\u001b[0m \u001b[1m0s\u001b[0m 1s/step - accuracy: 0.7608 - loss: 0.5110 - precision: 0.7397 - recall: 0.8399\n",
            "Epoch 5: val_accuracy improved from 0.83673 to 0.85714, saving model to best_model_vgg16.keras\n",
            "\u001b[1m13/13\u001b[0m \u001b[32m━━━━━━━━━━━━━━━━━━━━\u001b[0m\u001b[37m\u001b[0m \u001b[1m18s\u001b[0m 1s/step - accuracy: 0.7603 - loss: 0.5114 - precision: 0.7385 - recall: 0.8387 - val_accuracy: 0.8571 - val_loss: 0.4370 - val_precision: 0.9487 - val_recall: 0.7551 - learning_rate: 0.0010\n",
            "Epoch 6/90\n",
            "\u001b[1m13/13\u001b[0m \u001b[32m━━━━━━━━━━━━━━━━━━━━\u001b[0m\u001b[37m\u001b[0m \u001b[1m0s\u001b[0m 1s/step - accuracy: 0.7254 - loss: 0.5038 - precision: 0.7850 - recall: 0.6142\n",
            "Epoch 6: val_accuracy did not improve from 0.85714\n",
            "\u001b[1m13/13\u001b[0m \u001b[32m━━━━━━━━━━━━━━━━━━━━\u001b[0m\u001b[37m\u001b[0m \u001b[1m18s\u001b[0m 1s/step - accuracy: 0.7282 - loss: 0.5015 - precision: 0.7841 - recall: 0.6244 - val_accuracy: 0.7959 - val_loss: 0.3782 - val_precision: 0.7458 - val_recall: 0.8980 - learning_rate: 0.0010\n",
            "Epoch 7/90\n",
            "\u001b[1m13/13\u001b[0m \u001b[32m━━━━━━━━━━━━━━━━━━━━\u001b[0m\u001b[37m\u001b[0m \u001b[1m0s\u001b[0m 1s/step - accuracy: 0.8110 - loss: 0.4423 - precision: 0.7620 - recall: 0.8912\n",
            "Epoch 7: val_accuracy improved from 0.85714 to 0.87755, saving model to best_model_vgg16.keras\n",
            "\u001b[1m13/13\u001b[0m \u001b[32m━━━━━━━━━━━━━━━━━━━━\u001b[0m\u001b[37m\u001b[0m \u001b[1m18s\u001b[0m 1s/step - accuracy: 0.8085 - loss: 0.4438 - precision: 0.7625 - recall: 0.8841 - val_accuracy: 0.8776 - val_loss: 0.3652 - val_precision: 0.8936 - val_recall: 0.8571 - learning_rate: 0.0010\n",
            "Epoch 8/90\n",
            "\u001b[1m13/13\u001b[0m \u001b[32m━━━━━━━━━━━━━━━━━━━━\u001b[0m\u001b[37m\u001b[0m \u001b[1m0s\u001b[0m 1s/step - accuracy: 0.8314 - loss: 0.4232 - precision: 0.7860 - recall: 0.9003\n",
            "Epoch 8: val_accuracy did not improve from 0.87755\n",
            "\u001b[1m13/13\u001b[0m \u001b[32m━━━━━━━━━━━━━━━━━━━━\u001b[0m\u001b[37m\u001b[0m \u001b[1m19s\u001b[0m 1s/step - accuracy: 0.8320 - loss: 0.4233 - precision: 0.7878 - recall: 0.8994 - val_accuracy: 0.8776 - val_loss: 0.3379 - val_precision: 0.8627 - val_recall: 0.8980 - learning_rate: 0.0010\n",
            "Epoch 9/90\n",
            "\u001b[1m13/13\u001b[0m \u001b[32m━━━━━━━━━━━━━━━━━━━━\u001b[0m\u001b[37m\u001b[0m \u001b[1m0s\u001b[0m 1s/step - accuracy: 0.7711 - loss: 0.4891 - precision: 0.7756 - recall: 0.8157\n",
            "Epoch 9: val_accuracy improved from 0.87755 to 0.88776, saving model to best_model_vgg16.keras\n",
            "\u001b[1m13/13\u001b[0m \u001b[32m━━━━━━━━━━━━━━━━━━━━\u001b[0m\u001b[37m\u001b[0m \u001b[1m19s\u001b[0m 1s/step - accuracy: 0.7714 - loss: 0.4859 - precision: 0.7739 - recall: 0.8166 - val_accuracy: 0.8878 - val_loss: 0.3326 - val_precision: 0.9130 - val_recall: 0.8571 - learning_rate: 0.0010\n",
            "Epoch 10/90\n",
            "\u001b[1m13/13\u001b[0m \u001b[32m━━━━━━━━━━━━━━━━━━━━\u001b[0m\u001b[37m\u001b[0m \u001b[1m0s\u001b[0m 1s/step - accuracy: 0.8316 - loss: 0.3754 - precision: 0.8106 - recall: 0.8409\n",
            "Epoch 10: val_accuracy did not improve from 0.88776\n",
            "\u001b[1m13/13\u001b[0m \u001b[32m━━━━━━━━━━━━━━━━━━━━\u001b[0m\u001b[37m\u001b[0m \u001b[1m18s\u001b[0m 1s/step - accuracy: 0.8304 - loss: 0.3786 - precision: 0.8110 - recall: 0.8388 - val_accuracy: 0.8673 - val_loss: 0.3003 - val_precision: 0.8333 - val_recall: 0.9184 - learning_rate: 0.0010\n",
            "Epoch 11/90\n",
            "\u001b[1m13/13\u001b[0m \u001b[32m━━━━━━━━━━━━━━━━━━━━\u001b[0m\u001b[37m\u001b[0m \u001b[1m0s\u001b[0m 1s/step - accuracy: 0.7290 - loss: 0.5149 - precision: 0.6827 - recall: 0.7966\n",
            "Epoch 11: val_accuracy improved from 0.88776 to 0.89796, saving model to best_model_vgg16.keras\n",
            "\u001b[1m13/13\u001b[0m \u001b[32m━━━━━━━━━━━━━━━━━━━━\u001b[0m\u001b[37m\u001b[0m \u001b[1m18s\u001b[0m 1s/step - accuracy: 0.7320 - loss: 0.5100 - precision: 0.6878 - recall: 0.7974 - val_accuracy: 0.8980 - val_loss: 0.3051 - val_precision: 0.9333 - val_recall: 0.8571 - learning_rate: 0.0010\n",
            "Epoch 12/90\n",
            "\u001b[1m13/13\u001b[0m \u001b[32m━━━━━━━━━━━━━━━━━━━━\u001b[0m\u001b[37m\u001b[0m \u001b[1m0s\u001b[0m 1s/step - accuracy: 0.8027 - loss: 0.4147 - precision: 0.7714 - recall: 0.8111\n",
            "Epoch 12: val_accuracy did not improve from 0.89796\n",
            "\u001b[1m13/13\u001b[0m \u001b[32m━━━━━━━━━━━━━━━━━━━━\u001b[0m\u001b[37m\u001b[0m \u001b[1m21s\u001b[0m 1s/step - accuracy: 0.8035 - loss: 0.4144 - precision: 0.7729 - recall: 0.8141 - val_accuracy: 0.8776 - val_loss: 0.2846 - val_precision: 0.8364 - val_recall: 0.9388 - learning_rate: 0.0010\n",
            "Epoch 13/90\n",
            "\u001b[1m13/13\u001b[0m \u001b[32m━━━━━━━━━━━━━━━━━━━━\u001b[0m\u001b[37m\u001b[0m \u001b[1m0s\u001b[0m 1s/step - accuracy: 0.7744 - loss: 0.4245 - precision: 0.7327 - recall: 0.8459\n",
            "Epoch 13: val_accuracy improved from 0.89796 to 0.90816, saving model to best_model_vgg16.keras\n",
            "\u001b[1m13/13\u001b[0m \u001b[32m━━━━━━━━━━━━━━━━━━━━\u001b[0m\u001b[37m\u001b[0m \u001b[1m18s\u001b[0m 1s/step - accuracy: 0.7772 - loss: 0.4226 - precision: 0.7374 - recall: 0.8457 - val_accuracy: 0.9082 - val_loss: 0.2824 - val_precision: 0.9348 - val_recall: 0.8776 - learning_rate: 0.0010\n",
            "Epoch 14/90\n",
            "\u001b[1m13/13\u001b[0m \u001b[32m━━━━━━━━━━━━━━━━━━━━\u001b[0m\u001b[37m\u001b[0m \u001b[1m0s\u001b[0m 1s/step - accuracy: 0.8229 - loss: 0.3715 - precision: 0.7847 - recall: 0.8860\n",
            "Epoch 14: val_accuracy did not improve from 0.90816\n",
            "\u001b[1m13/13\u001b[0m \u001b[32m━━━━━━━━━━━━━━━━━━━━\u001b[0m\u001b[37m\u001b[0m \u001b[1m18s\u001b[0m 1s/step - accuracy: 0.8234 - loss: 0.3732 - precision: 0.7849 - recall: 0.8873 - val_accuracy: 0.9082 - val_loss: 0.2635 - val_precision: 0.9000 - val_recall: 0.9184 - learning_rate: 0.0010\n",
            "Epoch 15/90\n",
            "\u001b[1m13/13\u001b[0m \u001b[32m━━━━━━━━━━━━━━━━━━━━\u001b[0m\u001b[37m\u001b[0m \u001b[1m0s\u001b[0m 1s/step - accuracy: 0.7976 - loss: 0.3811 - precision: 0.7938 - recall: 0.8020\n",
            "Epoch 15: val_accuracy improved from 0.90816 to 0.91837, saving model to best_model_vgg16.keras\n",
            "\u001b[1m13/13\u001b[0m \u001b[32m━━━━━━━━━━━━━━━━━━━━\u001b[0m\u001b[37m\u001b[0m \u001b[1m18s\u001b[0m 1s/step - accuracy: 0.8001 - loss: 0.3797 - precision: 0.7965 - recall: 0.8042 - val_accuracy: 0.9184 - val_loss: 0.2643 - val_precision: 0.9362 - val_recall: 0.8980 - learning_rate: 0.0010\n",
            "Epoch 16/90\n",
            "\u001b[1m13/13\u001b[0m \u001b[32m━━━━━━━━━━━━━━━━━━━━\u001b[0m\u001b[37m\u001b[0m \u001b[1m0s\u001b[0m 1s/step - accuracy: 0.8502 - loss: 0.3611 - precision: 0.8312 - recall: 0.8751\n",
            "Epoch 16: val_accuracy did not improve from 0.91837\n",
            "\u001b[1m13/13\u001b[0m \u001b[32m━━━━━━━━━━━━━━━━━━━━\u001b[0m\u001b[37m\u001b[0m \u001b[1m18s\u001b[0m 1s/step - accuracy: 0.8489 - loss: 0.3624 - precision: 0.8293 - recall: 0.8754 - val_accuracy: 0.9184 - val_loss: 0.2458 - val_precision: 0.9020 - val_recall: 0.9388 - learning_rate: 0.0010\n",
            "Epoch 17/90\n",
            "\u001b[1m13/13\u001b[0m \u001b[32m━━━━━━━━━━━━━━━━━━━━\u001b[0m\u001b[37m\u001b[0m \u001b[1m0s\u001b[0m 1s/step - accuracy: 0.8457 - loss: 0.3656 - precision: 0.8495 - recall: 0.8530\n",
            "Epoch 17: val_accuracy did not improve from 0.91837\n",
            "\u001b[1m13/13\u001b[0m \u001b[32m━━━━━━━━━━━━━━━━━━━━\u001b[0m\u001b[37m\u001b[0m \u001b[1m17s\u001b[0m 1s/step - accuracy: 0.8454 - loss: 0.3667 - precision: 0.8487 - recall: 0.8526 - val_accuracy: 0.9082 - val_loss: 0.2791 - val_precision: 0.9545 - val_recall: 0.8571 - learning_rate: 0.0010\n",
            "Epoch 18/90\n",
            "\u001b[1m13/13\u001b[0m \u001b[32m━━━━━━━━━━━━━━━━━━━━\u001b[0m\u001b[37m\u001b[0m \u001b[1m0s\u001b[0m 1s/step - accuracy: 0.8269 - loss: 0.4083 - precision: 0.8485 - recall: 0.8040\n",
            "Epoch 18: val_accuracy improved from 0.91837 to 0.92857, saving model to best_model_vgg16.keras\n",
            "\u001b[1m13/13\u001b[0m \u001b[32m━━━━━━━━━━━━━━━━━━━━\u001b[0m\u001b[37m\u001b[0m \u001b[1m19s\u001b[0m 1s/step - accuracy: 0.8269 - loss: 0.4066 - precision: 0.8458 - recall: 0.8075 - val_accuracy: 0.9286 - val_loss: 0.2333 - val_precision: 0.9200 - val_recall: 0.9388 - learning_rate: 0.0010\n",
            "Epoch 19/90\n",
            "\u001b[1m13/13\u001b[0m \u001b[32m━━━━━━━━━━━━━━━━━━━━\u001b[0m\u001b[37m\u001b[0m \u001b[1m0s\u001b[0m 1s/step - accuracy: 0.8796 - loss: 0.3456 - precision: 0.8661 - recall: 0.8878\n",
            "Epoch 19: val_accuracy did not improve from 0.92857\n",
            "\u001b[1m13/13\u001b[0m \u001b[32m━━━━━━━━━━━━━━━━━━━━\u001b[0m\u001b[37m\u001b[0m \u001b[1m18s\u001b[0m 1s/step - accuracy: 0.8777 - loss: 0.3480 - precision: 0.8665 - recall: 0.8835 - val_accuracy: 0.9184 - val_loss: 0.2297 - val_precision: 0.9184 - val_recall: 0.9184 - learning_rate: 0.0010\n",
            "Epoch 20/90\n",
            "\u001b[1m13/13\u001b[0m \u001b[32m━━━━━━━━━━━━━━━━━━━━\u001b[0m\u001b[37m\u001b[0m \u001b[1m0s\u001b[0m 1s/step - accuracy: 0.8272 - loss: 0.4234 - precision: 0.7861 - recall: 0.9008\n",
            "Epoch 20: val_accuracy did not improve from 0.92857\n",
            "\u001b[1m13/13\u001b[0m \u001b[32m━━━━━━━━━━━━━━━━━━━━\u001b[0m\u001b[37m\u001b[0m \u001b[1m18s\u001b[0m 1s/step - accuracy: 0.8283 - loss: 0.4198 - precision: 0.7875 - recall: 0.9010 - val_accuracy: 0.9286 - val_loss: 0.2425 - val_precision: 0.9565 - val_recall: 0.8980 - learning_rate: 0.0010\n",
            "Epoch 21/90\n",
            "\u001b[1m13/13\u001b[0m \u001b[32m━━━━━━━━━━━━━━━━━━━━\u001b[0m\u001b[37m\u001b[0m \u001b[1m0s\u001b[0m 1s/step - accuracy: 0.8948 - loss: 0.2974 - precision: 0.8848 - recall: 0.9320\n",
            "Epoch 21: val_accuracy did not improve from 0.92857\n",
            "\u001b[1m13/13\u001b[0m \u001b[32m━━━━━━━━━━━━━━━━━━━━\u001b[0m\u001b[37m\u001b[0m \u001b[1m20s\u001b[0m 1s/step - accuracy: 0.8939 - loss: 0.2984 - precision: 0.8836 - recall: 0.9299 - val_accuracy: 0.9286 - val_loss: 0.2364 - val_precision: 0.9565 - val_recall: 0.8980 - learning_rate: 0.0010\n",
            "Epoch 22/90\n",
            "\u001b[1m13/13\u001b[0m \u001b[32m━━━━━━━━━━━━━━━━━━━━\u001b[0m\u001b[37m\u001b[0m \u001b[1m0s\u001b[0m 1s/step - accuracy: 0.8248 - loss: 0.3924 - precision: 0.8245 - recall: 0.8278\n",
            "Epoch 22: val_accuracy did not improve from 0.92857\n",
            "\u001b[1m13/13\u001b[0m \u001b[32m━━━━━━━━━━━━━━━━━━━━\u001b[0m\u001b[37m\u001b[0m \u001b[1m18s\u001b[0m 1s/step - accuracy: 0.8253 - loss: 0.3914 - precision: 0.8254 - recall: 0.8278 - val_accuracy: 0.9286 - val_loss: 0.2150 - val_precision: 0.9200 - val_recall: 0.9388 - learning_rate: 0.0010\n",
            "Epoch 23/90\n",
            "\u001b[1m13/13\u001b[0m \u001b[32m━━━━━━━━━━━━━━━━━━━━\u001b[0m\u001b[37m\u001b[0m \u001b[1m0s\u001b[0m 1s/step - accuracy: 0.8577 - loss: 0.3654 - precision: 0.8085 - recall: 0.9271\n",
            "Epoch 23: val_accuracy did not improve from 0.92857\n",
            "\u001b[1m13/13\u001b[0m \u001b[32m━━━━━━━━━━━━━━━━━━━━\u001b[0m\u001b[37m\u001b[0m \u001b[1m18s\u001b[0m 1s/step - accuracy: 0.8553 - loss: 0.3664 - precision: 0.8091 - recall: 0.9207 - val_accuracy: 0.9286 - val_loss: 0.2261 - val_precision: 0.9565 - val_recall: 0.8980 - learning_rate: 0.0010\n",
            "Epoch 24/90\n",
            "\u001b[1m13/13\u001b[0m \u001b[32m━━━━━━━━━━━━━━━━━━━━\u001b[0m\u001b[37m\u001b[0m \u001b[1m0s\u001b[0m 1s/step - accuracy: 0.8165 - loss: 0.3614 - precision: 0.7964 - recall: 0.8466\n",
            "Epoch 24: val_accuracy improved from 0.92857 to 0.93878, saving model to best_model_vgg16.keras\n",
            "\u001b[1m13/13\u001b[0m \u001b[32m━━━━━━━━━━━━━━━━━━━━\u001b[0m\u001b[37m\u001b[0m \u001b[1m19s\u001b[0m 1s/step - accuracy: 0.8198 - loss: 0.3580 - precision: 0.8001 - recall: 0.8492 - val_accuracy: 0.9388 - val_loss: 0.2129 - val_precision: 0.9574 - val_recall: 0.9184 - learning_rate: 0.0010\n",
            "Epoch 25/90\n",
            "\u001b[1m13/13\u001b[0m \u001b[32m━━━━━━━━━━━━━━━━━━━━\u001b[0m\u001b[37m\u001b[0m \u001b[1m0s\u001b[0m 1s/step - accuracy: 0.8656 - loss: 0.3270 - precision: 0.8524 - recall: 0.9025\n",
            "Epoch 25: val_accuracy did not improve from 0.93878\n",
            "\u001b[1m13/13\u001b[0m \u001b[32m━━━━━━━━━━━━━━━━━━━━\u001b[0m\u001b[37m\u001b[0m \u001b[1m18s\u001b[0m 1s/step - accuracy: 0.8650 - loss: 0.3274 - precision: 0.8505 - recall: 0.9030 - val_accuracy: 0.9388 - val_loss: 0.2070 - val_precision: 0.9574 - val_recall: 0.9184 - learning_rate: 0.0010\n",
            "Epoch 26/90\n",
            "\u001b[1m13/13\u001b[0m \u001b[32m━━━━━━━━━━━━━━━━━━━━\u001b[0m\u001b[37m\u001b[0m \u001b[1m0s\u001b[0m 1s/step - accuracy: 0.8183 - loss: 0.3943 - precision: 0.8100 - recall: 0.8475\n",
            "Epoch 26: val_accuracy did not improve from 0.93878\n",
            "\u001b[1m13/13\u001b[0m \u001b[32m━━━━━━━━━━━━━━━━━━━━\u001b[0m\u001b[37m\u001b[0m \u001b[1m18s\u001b[0m 1s/step - accuracy: 0.8184 - loss: 0.3927 - precision: 0.8113 - recall: 0.8446 - val_accuracy: 0.9388 - val_loss: 0.2163 - val_precision: 0.9574 - val_recall: 0.9184 - learning_rate: 0.0010\n",
            "Epoch 27/90\n",
            "\u001b[1m13/13\u001b[0m \u001b[32m━━━━━━━━━━━━━━━━━━━━\u001b[0m\u001b[37m\u001b[0m \u001b[1m0s\u001b[0m 1s/step - accuracy: 0.8969 - loss: 0.2903 - precision: 0.8968 - recall: 0.8994\n",
            "Epoch 27: val_accuracy did not improve from 0.93878\n",
            "\u001b[1m13/13\u001b[0m \u001b[32m━━━━━━━━━━━━━━━━━━━━\u001b[0m\u001b[37m\u001b[0m \u001b[1m18s\u001b[0m 1s/step - accuracy: 0.8939 - loss: 0.2940 - precision: 0.8918 - recall: 0.8993 - val_accuracy: 0.9388 - val_loss: 0.2017 - val_precision: 0.9574 - val_recall: 0.9184 - learning_rate: 0.0010\n",
            "Epoch 28/90\n",
            "\u001b[1m13/13\u001b[0m \u001b[32m━━━━━━━━━━━━━━━━━━━━\u001b[0m\u001b[37m\u001b[0m \u001b[1m0s\u001b[0m 1s/step - accuracy: 0.8870 - loss: 0.3121 - precision: 0.9127 - recall: 0.8608\n",
            "Epoch 28: val_accuracy improved from 0.93878 to 0.94898, saving model to best_model_vgg16.keras\n",
            "\u001b[1m13/13\u001b[0m \u001b[32m━━━━━━━━━━━━━━━━━━━━\u001b[0m\u001b[37m\u001b[0m \u001b[1m19s\u001b[0m 2s/step - accuracy: 0.8854 - loss: 0.3131 - precision: 0.9118 - recall: 0.8581 - val_accuracy: 0.9490 - val_loss: 0.1979 - val_precision: 0.9074 - val_recall: 1.0000 - learning_rate: 0.0010\n",
            "Epoch 29/90\n",
            "\u001b[1m13/13\u001b[0m \u001b[32m━━━━━━━━━━━━━━━━━━━━\u001b[0m\u001b[37m\u001b[0m \u001b[1m0s\u001b[0m 1s/step - accuracy: 0.8571 - loss: 0.3602 - precision: 0.8218 - recall: 0.9105\n",
            "Epoch 29: val_accuracy did not improve from 0.94898\n",
            "\u001b[1m13/13\u001b[0m \u001b[32m━━━━━━━━━━━━━━━━━━━━\u001b[0m\u001b[37m\u001b[0m \u001b[1m17s\u001b[0m 1s/step - accuracy: 0.8546 - loss: 0.3623 - precision: 0.8203 - recall: 0.9067 - val_accuracy: 0.9286 - val_loss: 0.2251 - val_precision: 0.9565 - val_recall: 0.8980 - learning_rate: 0.0010\n",
            "Epoch 30/90\n",
            "\u001b[1m13/13\u001b[0m \u001b[32m━━━━━━━━━━━━━━━━━━━━\u001b[0m\u001b[37m\u001b[0m \u001b[1m0s\u001b[0m 1s/step - accuracy: 0.8382 - loss: 0.3419 - precision: 0.8632 - recall: 0.8274\n",
            "Epoch 30: val_accuracy did not improve from 0.94898\n",
            "\u001b[1m13/13\u001b[0m \u001b[32m━━━━━━━━━━━━━━━━━━━━\u001b[0m\u001b[37m\u001b[0m \u001b[1m18s\u001b[0m 1s/step - accuracy: 0.8377 - loss: 0.3424 - precision: 0.8601 - recall: 0.8293 - val_accuracy: 0.9388 - val_loss: 0.1913 - val_precision: 0.9574 - val_recall: 0.9184 - learning_rate: 0.0010\n",
            "Epoch 31/90\n",
            "\u001b[1m13/13\u001b[0m \u001b[32m━━━━━━━━━━━━━━━━━━━━\u001b[0m\u001b[37m\u001b[0m \u001b[1m0s\u001b[0m 1s/step - accuracy: 0.8389 - loss: 0.3725 - precision: 0.8127 - recall: 0.8661\n",
            "Epoch 31: val_accuracy did not improve from 0.94898\n",
            "\u001b[1m13/13\u001b[0m \u001b[32m━━━━━━━━━━━━━━━━━━━━\u001b[0m\u001b[37m\u001b[0m \u001b[1m20s\u001b[0m 1s/step - accuracy: 0.8401 - loss: 0.3699 - precision: 0.8181 - recall: 0.8622 - val_accuracy: 0.9388 - val_loss: 0.1840 - val_precision: 0.9574 - val_recall: 0.9184 - learning_rate: 0.0010\n",
            "Epoch 32/90\n",
            "\u001b[1m13/13\u001b[0m \u001b[32m━━━━━━━━━━━━━━━━━━━━\u001b[0m\u001b[37m\u001b[0m \u001b[1m0s\u001b[0m 1s/step - accuracy: 0.8765 - loss: 0.2827 - precision: 0.8541 - recall: 0.9095\n",
            "Epoch 32: val_accuracy did not improve from 0.94898\n",
            "\u001b[1m13/13\u001b[0m \u001b[32m━━━━━━━━━━━━━━━━━━━━\u001b[0m\u001b[37m\u001b[0m \u001b[1m19s\u001b[0m 1s/step - accuracy: 0.8757 - loss: 0.2848 - precision: 0.8533 - recall: 0.9087 - val_accuracy: 0.9286 - val_loss: 0.2082 - val_precision: 0.9565 - val_recall: 0.8980 - learning_rate: 0.0010\n",
            "Epoch 33/90\n",
            "\u001b[1m13/13\u001b[0m \u001b[32m━━━━━━━━━━━━━━━━━━━━\u001b[0m\u001b[37m\u001b[0m \u001b[1m0s\u001b[0m 1s/step - accuracy: 0.8246 - loss: 0.3796 - precision: 0.8546 - recall: 0.7933\n",
            "Epoch 33: val_accuracy did not improve from 0.94898\n",
            "\u001b[1m13/13\u001b[0m \u001b[32m━━━━━━━━━━━━━━━━━━━━\u001b[0m\u001b[37m\u001b[0m \u001b[1m17s\u001b[0m 1s/step - accuracy: 0.8266 - loss: 0.3759 - precision: 0.8555 - recall: 0.7961 - val_accuracy: 0.9388 - val_loss: 0.1754 - val_precision: 0.9574 - val_recall: 0.9184 - learning_rate: 0.0010\n",
            "Epoch 34/90\n",
            "\u001b[1m13/13\u001b[0m \u001b[32m━━━━━━━━━━━━━━━━━━━━\u001b[0m\u001b[37m\u001b[0m \u001b[1m0s\u001b[0m 1s/step - accuracy: 0.8450 - loss: 0.3383 - precision: 0.8160 - recall: 0.9057\n",
            "Epoch 34: val_accuracy did not improve from 0.94898\n",
            "\u001b[1m13/13\u001b[0m \u001b[32m━━━━━━━━━━━━━━━━━━━━\u001b[0m\u001b[37m\u001b[0m \u001b[1m18s\u001b[0m 1s/step - accuracy: 0.8466 - loss: 0.3366 - precision: 0.8187 - recall: 0.9044 - val_accuracy: 0.9388 - val_loss: 0.1731 - val_precision: 0.9574 - val_recall: 0.9184 - learning_rate: 0.0010\n",
            "Epoch 35/90\n",
            "\u001b[1m13/13\u001b[0m \u001b[32m━━━━━━━━━━━━━━━━━━━━\u001b[0m\u001b[37m\u001b[0m \u001b[1m0s\u001b[0m 1s/step - accuracy: 0.8313 - loss: 0.3589 - precision: 0.8006 - recall: 0.8417\n",
            "Epoch 35: val_accuracy did not improve from 0.94898\n",
            "\u001b[1m13/13\u001b[0m \u001b[32m━━━━━━━━━━━━━━━━━━━━\u001b[0m\u001b[37m\u001b[0m \u001b[1m18s\u001b[0m 1s/step - accuracy: 0.8319 - loss: 0.3571 - precision: 0.8033 - recall: 0.8418 - val_accuracy: 0.9388 - val_loss: 0.1968 - val_precision: 0.9574 - val_recall: 0.9184 - learning_rate: 0.0010\n",
            "Epoch 36/90\n",
            "\u001b[1m13/13\u001b[0m \u001b[32m━━━━━━━━━━━━━━━━━━━━\u001b[0m\u001b[37m\u001b[0m \u001b[1m0s\u001b[0m 1s/step - accuracy: 0.8497 - loss: 0.3035 - precision: 0.8421 - recall: 0.8531\n",
            "Epoch 36: val_accuracy did not improve from 0.94898\n",
            "\u001b[1m13/13\u001b[0m \u001b[32m━━━━━━━━━━━━━━━━━━━━\u001b[0m\u001b[37m\u001b[0m \u001b[1m17s\u001b[0m 1s/step - accuracy: 0.8488 - loss: 0.3052 - precision: 0.8417 - recall: 0.8520 - val_accuracy: 0.9490 - val_loss: 0.1712 - val_precision: 0.9074 - val_recall: 1.0000 - learning_rate: 0.0010\n",
            "Epoch 37/90\n",
            "\u001b[1m13/13\u001b[0m \u001b[32m━━━━━━━━━━━━━━━━━━━━\u001b[0m\u001b[37m\u001b[0m \u001b[1m0s\u001b[0m 1s/step - accuracy: 0.8499 - loss: 0.3636 - precision: 0.8240 - recall: 0.8954\n",
            "Epoch 37: val_accuracy did not improve from 0.94898\n",
            "\u001b[1m13/13\u001b[0m \u001b[32m━━━━━━━━━━━━━━━━━━━━\u001b[0m\u001b[37m\u001b[0m \u001b[1m21s\u001b[0m 1s/step - accuracy: 0.8508 - loss: 0.3615 - precision: 0.8268 - recall: 0.8931 - val_accuracy: 0.9388 - val_loss: 0.1885 - val_precision: 0.9574 - val_recall: 0.9184 - learning_rate: 0.0010\n",
            "Epoch 38/90\n",
            "\u001b[1m13/13\u001b[0m \u001b[32m━━━━━━━━━━━━━━━━━━━━\u001b[0m\u001b[37m\u001b[0m \u001b[1m0s\u001b[0m 1s/step - accuracy: 0.8703 - loss: 0.3265 - precision: 0.8779 - recall: 0.8643\n",
            "Epoch 38: val_accuracy did not improve from 0.94898\n",
            "\u001b[1m13/13\u001b[0m \u001b[32m━━━━━━━━━━━━━━━━━━━━\u001b[0m\u001b[37m\u001b[0m \u001b[1m18s\u001b[0m 1s/step - accuracy: 0.8703 - loss: 0.3275 - precision: 0.8775 - recall: 0.8646 - val_accuracy: 0.9388 - val_loss: 0.1853 - val_precision: 0.9574 - val_recall: 0.9184 - learning_rate: 0.0010\n",
            "Epoch 39/90\n",
            "\u001b[1m13/13\u001b[0m \u001b[32m━━━━━━━━━━━━━━━━━━━━\u001b[0m\u001b[37m\u001b[0m \u001b[1m0s\u001b[0m 1s/step - accuracy: 0.8695 - loss: 0.3407 - precision: 0.8560 - recall: 0.8509\n",
            "Epoch 39: val_accuracy improved from 0.94898 to 0.95918, saving model to best_model_vgg16.keras\n",
            "\u001b[1m13/13\u001b[0m \u001b[32m━━━━━━━━━━━━━━━━━━━━\u001b[0m\u001b[37m\u001b[0m \u001b[1m18s\u001b[0m 1s/step - accuracy: 0.8690 - loss: 0.3405 - precision: 0.8565 - recall: 0.8517 - val_accuracy: 0.9592 - val_loss: 0.1709 - val_precision: 0.9412 - val_recall: 0.9796 - learning_rate: 0.0010\n",
            "Epoch 40/90\n",
            "\u001b[1m13/13\u001b[0m \u001b[32m━━━━━━━━━━━━━━━━━━━━\u001b[0m\u001b[37m\u001b[0m \u001b[1m0s\u001b[0m 1s/step - accuracy: 0.8612 - loss: 0.3310 - precision: 0.8297 - recall: 0.9279\n",
            "Epoch 40: val_accuracy did not improve from 0.95918\n",
            "\u001b[1m13/13\u001b[0m \u001b[32m━━━━━━━━━━━━━━━━━━━━\u001b[0m\u001b[37m\u001b[0m \u001b[1m18s\u001b[0m 1s/step - accuracy: 0.8604 - loss: 0.3307 - precision: 0.8287 - recall: 0.9262 - val_accuracy: 0.9286 - val_loss: 0.1971 - val_precision: 0.9773 - val_recall: 0.8776 - learning_rate: 0.0010\n",
            "Epoch 41/90\n",
            "\u001b[1m13/13\u001b[0m \u001b[32m━━━━━━━━━━━━━━━━━━━━\u001b[0m\u001b[37m\u001b[0m \u001b[1m0s\u001b[0m 1s/step - accuracy: 0.8831 - loss: 0.3257 - precision: 0.8811 - recall: 0.8924\n",
            "Epoch 41: val_accuracy did not improve from 0.95918\n",
            "\u001b[1m13/13\u001b[0m \u001b[32m━━━━━━━━━━━━━━━━━━━━\u001b[0m\u001b[37m\u001b[0m \u001b[1m17s\u001b[0m 1s/step - accuracy: 0.8822 - loss: 0.3259 - precision: 0.8789 - recall: 0.8928 - val_accuracy: 0.9388 - val_loss: 0.1703 - val_precision: 0.9574 - val_recall: 0.9184 - learning_rate: 0.0010\n",
            "Epoch 42/90\n",
            "\u001b[1m13/13\u001b[0m \u001b[32m━━━━━━━━━━━━━━━━━━━━\u001b[0m\u001b[37m\u001b[0m \u001b[1m0s\u001b[0m 1s/step - accuracy: 0.8776 - loss: 0.2969 - precision: 0.8723 - recall: 0.8866\n",
            "Epoch 42: val_accuracy did not improve from 0.95918\n",
            "\u001b[1m13/13\u001b[0m \u001b[32m━━━━━━━━━━━━━━━━━━━━\u001b[0m\u001b[37m\u001b[0m \u001b[1m18s\u001b[0m 1s/step - accuracy: 0.8767 - loss: 0.2971 - precision: 0.8722 - recall: 0.8845 - val_accuracy: 0.9388 - val_loss: 0.1711 - val_precision: 0.9574 - val_recall: 0.9184 - learning_rate: 0.0010\n",
            "Epoch 43/90\n",
            "\u001b[1m13/13\u001b[0m \u001b[32m━━━━━━━━━━━━━━━━━━━━\u001b[0m\u001b[37m\u001b[0m \u001b[1m0s\u001b[0m 1s/step - accuracy: 0.8750 - loss: 0.3064 - precision: 0.8452 - recall: 0.9164\n",
            "Epoch 43: val_accuracy improved from 0.95918 to 0.96939, saving model to best_model_vgg16.keras\n",
            "\u001b[1m13/13\u001b[0m \u001b[32m━━━━━━━━━━━━━━━━━━━━\u001b[0m\u001b[37m\u001b[0m \u001b[1m19s\u001b[0m 1s/step - accuracy: 0.8750 - loss: 0.3065 - precision: 0.8464 - recall: 0.9148 - val_accuracy: 0.9694 - val_loss: 0.1621 - val_precision: 0.9600 - val_recall: 0.9796 - learning_rate: 0.0010\n",
            "Epoch 44/90\n",
            "\u001b[1m13/13\u001b[0m \u001b[32m━━━━━━━━━━━━━━━━━━━━\u001b[0m\u001b[37m\u001b[0m \u001b[1m0s\u001b[0m 1s/step - accuracy: 0.8456 - loss: 0.3256 - precision: 0.8288 - recall: 0.8753\n",
            "Epoch 44: val_accuracy did not improve from 0.96939\n",
            "\u001b[1m13/13\u001b[0m \u001b[32m━━━━━━━━━━━━━━━━━━━━\u001b[0m\u001b[37m\u001b[0m \u001b[1m18s\u001b[0m 1s/step - accuracy: 0.8464 - loss: 0.3250 - precision: 0.8301 - recall: 0.8751 - val_accuracy: 0.9388 - val_loss: 0.1729 - val_precision: 0.9574 - val_recall: 0.9184 - learning_rate: 0.0010\n",
            "Epoch 45/90\n",
            "\u001b[1m13/13\u001b[0m \u001b[32m━━━━━━━━━━━━━━━━━━━━\u001b[0m\u001b[37m\u001b[0m \u001b[1m0s\u001b[0m 1s/step - accuracy: 0.8673 - loss: 0.2632 - precision: 0.8482 - recall: 0.8795\n",
            "Epoch 45: val_accuracy did not improve from 0.96939\n",
            "\u001b[1m13/13\u001b[0m \u001b[32m━━━━━━━━━━━━━━━━━━━━\u001b[0m\u001b[37m\u001b[0m \u001b[1m20s\u001b[0m 1s/step - accuracy: 0.8661 - loss: 0.2666 - precision: 0.8463 - recall: 0.8805 - val_accuracy: 0.9592 - val_loss: 0.1620 - val_precision: 0.9592 - val_recall: 0.9592 - learning_rate: 0.0010\n",
            "Epoch 46/90\n",
            "\u001b[1m13/13\u001b[0m \u001b[32m━━━━━━━━━━━━━━━━━━━━\u001b[0m\u001b[37m\u001b[0m \u001b[1m0s\u001b[0m 1s/step - accuracy: 0.8580 - loss: 0.2762 - precision: 0.8744 - recall: 0.8560\n",
            "Epoch 46: ReduceLROnPlateau reducing learning rate to 0.00020000000949949026.\n",
            "\n",
            "Epoch 46: val_accuracy did not improve from 0.96939\n",
            "\u001b[1m13/13\u001b[0m \u001b[32m━━━━━━━━━━━━━━━━━━━━\u001b[0m\u001b[37m\u001b[0m \u001b[1m18s\u001b[0m 1s/step - accuracy: 0.8583 - loss: 0.2773 - precision: 0.8731 - recall: 0.8572 - val_accuracy: 0.9286 - val_loss: 0.1854 - val_precision: 0.9773 - val_recall: 0.8776 - learning_rate: 0.0010\n",
            "Epoch 47/90\n",
            "\u001b[1m13/13\u001b[0m \u001b[32m━━━━━━━━━━━━━━━━━━━━\u001b[0m\u001b[37m\u001b[0m \u001b[1m0s\u001b[0m 1s/step - accuracy: 0.8836 - loss: 0.2727 - precision: 0.8910 - recall: 0.8664\n",
            "Epoch 47: val_accuracy did not improve from 0.96939\n",
            "\u001b[1m13/13\u001b[0m \u001b[32m━━━━━━━━━━━━━━━━━━━━\u001b[0m\u001b[37m\u001b[0m \u001b[1m18s\u001b[0m 1s/step - accuracy: 0.8819 - loss: 0.2751 - precision: 0.8910 - recall: 0.8633 - val_accuracy: 0.9490 - val_loss: 0.1695 - val_precision: 0.9783 - val_recall: 0.9184 - learning_rate: 2.0000e-04\n",
            "Epoch 48/90\n",
            "\u001b[1m13/13\u001b[0m \u001b[32m━━━━━━━━━━━━━━━━━━━━\u001b[0m\u001b[37m\u001b[0m \u001b[1m0s\u001b[0m 1s/step - accuracy: 0.9030 - loss: 0.2489 - precision: 0.8736 - recall: 0.9460\n",
            "Epoch 48: val_accuracy did not improve from 0.96939\n",
            "\u001b[1m13/13\u001b[0m \u001b[32m━━━━━━━━━━━━━━━━━━━━\u001b[0m\u001b[37m\u001b[0m \u001b[1m18s\u001b[0m 1s/step - accuracy: 0.9029 - loss: 0.2484 - precision: 0.8749 - recall: 0.9437 - val_accuracy: 0.9388 - val_loss: 0.1653 - val_precision: 0.9574 - val_recall: 0.9184 - learning_rate: 2.0000e-04\n",
            "Epoch 49/90\n",
            "\u001b[1m13/13\u001b[0m \u001b[32m━━━━━━━━━━━━━━━━━━━━\u001b[0m\u001b[37m\u001b[0m \u001b[1m0s\u001b[0m 1s/step - accuracy: 0.8626 - loss: 0.3216 - precision: 0.8604 - recall: 0.8934\n",
            "Epoch 49: val_accuracy did not improve from 0.96939\n",
            "\u001b[1m13/13\u001b[0m \u001b[32m━━━━━━━━━━━━━━━━━━━━\u001b[0m\u001b[37m\u001b[0m \u001b[1m18s\u001b[0m 1s/step - accuracy: 0.8630 - loss: 0.3215 - precision: 0.8596 - recall: 0.8934 - val_accuracy: 0.9592 - val_loss: 0.1579 - val_precision: 0.9592 - val_recall: 0.9592 - learning_rate: 2.0000e-04\n",
            "Epoch 50/90\n",
            "\u001b[1m13/13\u001b[0m \u001b[32m━━━━━━━━━━━━━━━━━━━━\u001b[0m\u001b[37m\u001b[0m \u001b[1m0s\u001b[0m 1s/step - accuracy: 0.8908 - loss: 0.2769 - precision: 0.8837 - recall: 0.9074\n",
            "Epoch 50: val_accuracy did not improve from 0.96939\n",
            "\u001b[1m13/13\u001b[0m \u001b[32m━━━━━━━━━━━━━━━━━━━━\u001b[0m\u001b[37m\u001b[0m \u001b[1m19s\u001b[0m 1s/step - accuracy: 0.8901 - loss: 0.2781 - precision: 0.8829 - recall: 0.9064 - val_accuracy: 0.9592 - val_loss: 0.1579 - val_precision: 0.9592 - val_recall: 0.9592 - learning_rate: 2.0000e-04\n",
            "Epoch 51/90\n",
            "\u001b[1m13/13\u001b[0m \u001b[32m━━━━━━━━━━━━━━━━━━━━\u001b[0m\u001b[37m\u001b[0m \u001b[1m0s\u001b[0m 1s/step - accuracy: 0.9017 - loss: 0.2830 - precision: 0.8949 - recall: 0.9193\n",
            "Epoch 51: val_accuracy did not improve from 0.96939\n",
            "\u001b[1m13/13\u001b[0m \u001b[32m━━━━━━━━━━━━━━━━━━━━\u001b[0m\u001b[37m\u001b[0m \u001b[1m18s\u001b[0m 1s/step - accuracy: 0.9009 - loss: 0.2847 - precision: 0.8939 - recall: 0.9182 - val_accuracy: 0.9592 - val_loss: 0.1560 - val_precision: 0.9592 - val_recall: 0.9592 - learning_rate: 2.0000e-04\n",
            "Epoch 52/90\n",
            "\u001b[1m13/13\u001b[0m \u001b[32m━━━━━━━━━━━━━━━━━━━━\u001b[0m\u001b[37m\u001b[0m \u001b[1m0s\u001b[0m 1s/step - accuracy: 0.9111 - loss: 0.2544 - precision: 0.9269 - recall: 0.8980\n",
            "Epoch 52: val_accuracy did not improve from 0.96939\n",
            "\u001b[1m13/13\u001b[0m \u001b[32m━━━━━━━━━━━━━━━━━━━━\u001b[0m\u001b[37m\u001b[0m \u001b[1m18s\u001b[0m 1s/step - accuracy: 0.9102 - loss: 0.2558 - precision: 0.9254 - recall: 0.8973 - val_accuracy: 0.9592 - val_loss: 0.1554 - val_precision: 0.9592 - val_recall: 0.9592 - learning_rate: 2.0000e-04\n",
            "Epoch 53/90\n",
            "\u001b[1m13/13\u001b[0m \u001b[32m━━━━━━━━━━━━━━━━━━━━\u001b[0m\u001b[37m\u001b[0m \u001b[1m0s\u001b[0m 1s/step - accuracy: 0.8764 - loss: 0.2619 - precision: 0.8755 - recall: 0.8946\n",
            "Epoch 53: val_accuracy did not improve from 0.96939\n",
            "\u001b[1m13/13\u001b[0m \u001b[32m━━━━━━━━━━━━━━━━━━━━\u001b[0m\u001b[37m\u001b[0m \u001b[1m18s\u001b[0m 1s/step - accuracy: 0.8758 - loss: 0.2640 - precision: 0.8739 - recall: 0.8942 - val_accuracy: 0.9490 - val_loss: 0.1569 - val_precision: 0.9583 - val_recall: 0.9388 - learning_rate: 2.0000e-04\n",
            "Epoch 54/90\n",
            "\u001b[1m13/13\u001b[0m \u001b[32m━━━━━━━━━━━━━━━━━━━━\u001b[0m\u001b[37m\u001b[0m \u001b[1m0s\u001b[0m 1s/step - accuracy: 0.8635 - loss: 0.3192 - precision: 0.8713 - recall: 0.8518\n",
            "Epoch 54: val_accuracy did not improve from 0.96939\n",
            "\u001b[1m13/13\u001b[0m \u001b[32m━━━━━━━━━━━━━━━━━━━━\u001b[0m\u001b[37m\u001b[0m \u001b[1m18s\u001b[0m 1s/step - accuracy: 0.8634 - loss: 0.3186 - precision: 0.8707 - recall: 0.8526 - val_accuracy: 0.9490 - val_loss: 0.1541 - val_precision: 0.9583 - val_recall: 0.9388 - learning_rate: 2.0000e-04\n",
            "Epoch 55/90\n",
            "\u001b[1m13/13\u001b[0m \u001b[32m━━━━━━━━━━━━━━━━━━━━\u001b[0m\u001b[37m\u001b[0m \u001b[1m0s\u001b[0m 1s/step - accuracy: 0.8615 - loss: 0.3142 - precision: 0.8318 - recall: 0.9004\n",
            "Epoch 55: val_accuracy did not improve from 0.96939\n",
            "\u001b[1m13/13\u001b[0m \u001b[32m━━━━━━━━━━━━━━━━━━━━\u001b[0m\u001b[37m\u001b[0m \u001b[1m19s\u001b[0m 1s/step - accuracy: 0.8625 - loss: 0.3125 - precision: 0.8348 - recall: 0.8988 - val_accuracy: 0.9592 - val_loss: 0.1506 - val_precision: 0.9592 - val_recall: 0.9592 - learning_rate: 2.0000e-04\n",
            "Epoch 56/90\n",
            "\u001b[1m13/13\u001b[0m \u001b[32m━━━━━━━━━━━━━━━━━━━━\u001b[0m\u001b[37m\u001b[0m \u001b[1m0s\u001b[0m 1s/step - accuracy: 0.8788 - loss: 0.2890 - precision: 0.8636 - recall: 0.8900\n",
            "Epoch 56: val_accuracy did not improve from 0.96939\n",
            "\u001b[1m13/13\u001b[0m \u001b[32m━━━━━━━━━━━━━━━━━━━━\u001b[0m\u001b[37m\u001b[0m \u001b[1m18s\u001b[0m 1s/step - accuracy: 0.8795 - loss: 0.2875 - precision: 0.8635 - recall: 0.8924 - val_accuracy: 0.9592 - val_loss: 0.1496 - val_precision: 0.9592 - val_recall: 0.9592 - learning_rate: 2.0000e-04\n",
            "Epoch 57/90\n",
            "\u001b[1m13/13\u001b[0m \u001b[32m━━━━━━━━━━━━━━━━━━━━\u001b[0m\u001b[37m\u001b[0m \u001b[1m0s\u001b[0m 1s/step - accuracy: 0.8937 - loss: 0.2622 - precision: 0.8873 - recall: 0.8990\n",
            "Epoch 57: val_accuracy did not improve from 0.96939\n",
            "\u001b[1m13/13\u001b[0m \u001b[32m━━━━━━━━━━━━━━━━━━━━\u001b[0m\u001b[37m\u001b[0m \u001b[1m18s\u001b[0m 1s/step - accuracy: 0.8929 - loss: 0.2624 - precision: 0.8862 - recall: 0.8989 - val_accuracy: 0.9388 - val_loss: 0.1592 - val_precision: 0.9574 - val_recall: 0.9184 - learning_rate: 2.0000e-04\n",
            "Epoch 58/90\n",
            "\u001b[1m13/13\u001b[0m \u001b[32m━━━━━━━━━━━━━━━━━━━━\u001b[0m\u001b[37m\u001b[0m \u001b[1m0s\u001b[0m 1s/step - accuracy: 0.8545 - loss: 0.3406 - precision: 0.8448 - recall: 0.8709\n",
            "Epoch 58: val_accuracy did not improve from 0.96939\n",
            "\u001b[1m13/13\u001b[0m \u001b[32m━━━━━━━━━━━━━━━━━━━━\u001b[0m\u001b[37m\u001b[0m \u001b[1m18s\u001b[0m 1s/step - accuracy: 0.8547 - loss: 0.3391 - precision: 0.8455 - recall: 0.8704 - val_accuracy: 0.9388 - val_loss: 0.1585 - val_precision: 0.9574 - val_recall: 0.9184 - learning_rate: 2.0000e-04\n",
            "Epoch 59/90\n",
            "\u001b[1m13/13\u001b[0m \u001b[32m━━━━━━━━━━━━━━━━━━━━\u001b[0m\u001b[37m\u001b[0m \u001b[1m0s\u001b[0m 1s/step - accuracy: 0.8859 - loss: 0.2578 - precision: 0.8855 - recall: 0.8853\n",
            "Epoch 59: ReduceLROnPlateau reducing learning rate to 4.0000001899898055e-05.\n",
            "\n",
            "Epoch 59: val_accuracy did not improve from 0.96939\n",
            "\u001b[1m13/13\u001b[0m \u001b[32m━━━━━━━━━━━━━━━━━━━━\u001b[0m\u001b[37m\u001b[0m \u001b[1m18s\u001b[0m 1s/step - accuracy: 0.8847 - loss: 0.2594 - precision: 0.8843 - recall: 0.8845 - val_accuracy: 0.9490 - val_loss: 0.1525 - val_precision: 0.9583 - val_recall: 0.9388 - learning_rate: 2.0000e-04\n",
            "Epoch 60/90\n",
            "\u001b[1m13/13\u001b[0m \u001b[32m━━━━━━━━━━━━━━━━━━━━\u001b[0m\u001b[37m\u001b[0m \u001b[1m0s\u001b[0m 1s/step - accuracy: 0.8767 - loss: 0.2741 - precision: 0.8884 - recall: 0.8665\n",
            "Epoch 60: val_accuracy did not improve from 0.96939\n",
            "\u001b[1m13/13\u001b[0m \u001b[32m━━━━━━━━━━━━━━━━━━━━\u001b[0m\u001b[37m\u001b[0m \u001b[1m17s\u001b[0m 1s/step - accuracy: 0.8759 - loss: 0.2770 - precision: 0.8869 - recall: 0.8662 - val_accuracy: 0.9490 - val_loss: 0.1507 - val_precision: 0.9583 - val_recall: 0.9388 - learning_rate: 4.0000e-05\n",
            "Epoch 61/90\n",
            "\u001b[1m13/13\u001b[0m \u001b[32m━━━━━━━━━━━━━━━━━━━━\u001b[0m\u001b[37m\u001b[0m \u001b[1m0s\u001b[0m 1s/step - accuracy: 0.8636 - loss: 0.2857 - precision: 0.8572 - recall: 0.8677\n",
            "Epoch 61: val_accuracy did not improve from 0.96939\n",
            "\u001b[1m13/13\u001b[0m \u001b[32m━━━━━━━━━━━━━━━━━━━━\u001b[0m\u001b[37m\u001b[0m \u001b[1m18s\u001b[0m 1s/step - accuracy: 0.8631 - loss: 0.2863 - precision: 0.8570 - recall: 0.8674 - val_accuracy: 0.9592 - val_loss: 0.1496 - val_precision: 0.9592 - val_recall: 0.9592 - learning_rate: 4.0000e-05\n",
            "Epoch 62/90\n",
            "\u001b[1m13/13\u001b[0m \u001b[32m━━━━━━━━━━━━━━━━━━━━\u001b[0m\u001b[37m\u001b[0m \u001b[1m0s\u001b[0m 1s/step - accuracy: 0.8772 - loss: 0.3216 - precision: 0.8806 - recall: 0.8942\n",
            "Epoch 62: ReduceLROnPlateau reducing learning rate to 1e-05.\n",
            "\n",
            "Epoch 62: val_accuracy did not improve from 0.96939\n",
            "\u001b[1m13/13\u001b[0m \u001b[32m━━━━━━━━━━━━━━━━━━━━\u001b[0m\u001b[37m\u001b[0m \u001b[1m18s\u001b[0m 1s/step - accuracy: 0.8771 - loss: 0.3210 - precision: 0.8798 - recall: 0.8935 - val_accuracy: 0.9592 - val_loss: 0.1498 - val_precision: 0.9592 - val_recall: 0.9592 - learning_rate: 4.0000e-05\n",
            "Epoch 63/90\n",
            "\u001b[1m13/13\u001b[0m \u001b[32m━━━━━━━━━━━━━━━━━━━━\u001b[0m\u001b[37m\u001b[0m \u001b[1m0s\u001b[0m 1s/step - accuracy: 0.8897 - loss: 0.2629 - precision: 0.8907 - recall: 0.8771\n",
            "Epoch 63: val_accuracy did not improve from 0.96939\n",
            "\u001b[1m13/13\u001b[0m \u001b[32m━━━━━━━━━━━━━━━━━━━━\u001b[0m\u001b[37m\u001b[0m \u001b[1m19s\u001b[0m 2s/step - accuracy: 0.8899 - loss: 0.2632 - precision: 0.8912 - recall: 0.8779 - val_accuracy: 0.9592 - val_loss: 0.1498 - val_precision: 0.9592 - val_recall: 0.9592 - learning_rate: 1.0000e-05\n",
            "Epoch 63: early stopping\n",
            "Restoring model weights from the end of the best epoch: 43.\n",
            "Treinamento concluído!\n"
          ]
        }
      ]
    },
    {
      "cell_type": "markdown",
      "source": [
        "## Validação do modelo"
      ],
      "metadata": {
        "id": "9NYA-nBsfZqU"
      }
    },
    {
      "cell_type": "markdown",
      "source": [
        "### Funções"
      ],
      "metadata": {
        "id": "lg3aIZVHCd-C"
      }
    },
    {
      "cell_type": "code",
      "source": [
        "def plot_training_history(history):\n",
        "    fig, axes = plt.subplots(2, 2, figsize = (15, 10)) # Cria uma grade 2x2 de gráficos com as posições [0,0], [0,1]... que vou utilizar com os axes\n",
        "\n",
        "    # Perda\n",
        "    axes[0, 0].plot(history.history['loss'], label = 'Treino', color = 'blue')\n",
        "    axes[0,0].plot(history.history['val_loss'], label = 'Validação', color = 'red')\n",
        "    axes[0,0].set_title('Funcao de Perda')\n",
        "    axes[0,0].set_xlabel('Época')\n",
        "    axes[0,0].set_ylabel('Perda')\n",
        "    axes[0,0].legend() # Exibe a legenda no gráfico\n",
        "\n",
        "    # Acurácia\n",
        "    axes[0, 1].plot(history.history['accuracy'], label = 'Treino', color = 'blue')\n",
        "    axes[0, 1].plot(history.history['val_accuracy'], label = 'Validação', color = 'red')\n",
        "    axes[0, 1].set_title('Acurácia')\n",
        "    axes[0, 1].set_xlabel('Época')\n",
        "    axes[0, 1].set_ylabel('Acurácia')\n",
        "    axes[0,1].legend()\n",
        "\n",
        "    # Recall (métrica principal)\n",
        "    axes[1, 0].plot(history.history['recall'], label = 'Treino', color = 'blue')\n",
        "    axes[1, 0].plot(history.history['val_recall'], label = 'Validação', color = 'red')\n",
        "    axes[1, 0].set_title('Recall')\n",
        "    axes[1, 0].set_xlabel('Época')\n",
        "    axes[1, 0].set_ylabel('Recall')\n",
        "    axes[1, 0].legend()\n",
        "\n",
        "    # Precisão\n",
        "    axes[1, 1].plot(history.history['precision'], label = 'Treino', color = 'blue')\n",
        "    axes[1, 1].plot(history.history['val_precision'], label = 'Validação', color = 'red')\n",
        "    axes[1, 1].set_title('Precisão')\n",
        "    axes[1, 1].set_xlabel('Época')\n",
        "    axes[1, 1].set_ylabel('Precisão')\n",
        "    axes[1, 1].legend()\n",
        "\n",
        "    plt.tight_layout() # Ajusta o layout para caber tudo na tela\n",
        "    plt.show()"
      ],
      "metadata": {
        "id": "d_AxCHEOCftw"
      },
      "execution_count": null,
      "outputs": []
    },
    {
      "cell_type": "markdown",
      "source": [
        "### Imprimindo os gráficos de validação"
      ],
      "metadata": {
        "id": "cFnUnLDtDCm5"
      }
    },
    {
      "cell_type": "code",
      "source": [
        "plot_training_history(history)"
      ],
      "metadata": {
        "colab": {
          "base_uri": "https://localhost:8080/",
          "height": 1000
        },
        "id": "UTEl94pKDFxN",
        "outputId": "3d5ed2df-3833-4d9f-9d48-b73bc3da400b"
      },
      "execution_count": null,
      "outputs": [
        {
          "output_type": "display_data",
          "data": {
            "text/plain": [
              "<Figure size 1500x1000 with 4 Axes>"
            ],
            "image/png": "[encoded data removed]"
          },
          "metadata": {}
        }
      ]
    },
    {
      "cell_type": "markdown",
      "source": [
        "## Teste do modelo"
      ],
      "metadata": {
        "id": "Mik7D1PVfVhJ"
      }
    },
    {
      "cell_type": "markdown",
      "source": [
        "### Parâmetros"
      ],
      "metadata": {
        "id": "meOaIekgEDWv"
      }
    },
    {
      "cell_type": "code",
      "source": [
        "THRESHOLD = 0.5 # Define o limite superior para que o modelo considere que é da classe 0. Ou seja, o que é <= THRESHOLD é 0 e o que é > é 1\n",
        "POSITIVE_LABEL = 0 # Define qual rótulo que representa positivo. Ou seja, catarata foi rotulada com qual valor? 0 ou 1?"
      ],
      "metadata": {
        "id": "V2pFYgAJEEze"
      },
      "execution_count": null,
      "outputs": []
    },
    {
      "cell_type": "markdown",
      "source": [
        "### Recuperando o melhor modelo salvo pelo checkpoint model"
      ],
      "metadata": {
        "id": "5B557ZeQDeeU"
      }
    },
    {
      "cell_type": "code",
      "source": [
        "print(\"Carregando o melhor modelo salvo...\")\n",
        "model.load_weights(f'best_model_{base_model.name}.keras')\n",
        "print(\"Modelo carregado!\")"
      ],
      "metadata": {
        "colab": {
          "base_uri": "https://localhost:8080/"
        },
        "id": "KWNqmH1wDiGh",
        "outputId": "90cee0e8-5b6e-414a-910e-7d85d7517d70"
      },
      "execution_count": null,
      "outputs": [
        {
          "output_type": "stream",
          "name": "stdout",
          "text": [
            "Carregando o melhor modelo salvo...\n",
            "Modelo carregado!\n"
          ]
        }
      ]
    },
    {
      "cell_type": "markdown",
      "source": [
        "### Fazendo as predições para o conjunto de teste"
      ],
      "metadata": {
        "id": "bF-7ql0VDvAq"
      }
    },
    {
      "cell_type": "code",
      "source": [
        "print(\"Fazendo predições no conjunto de teste...\")\n",
        "test_predictions = model.predict(test_generator) # usa o modelo e faz previsões nos dados gerados para teste\n",
        "print(f\"Predições feitas em {len(test_predictions)} amostras.\")"
      ],
      "metadata": {
        "colab": {
          "base_uri": "https://localhost:8080/"
        },
        "id": "NpoWonReDx2k",
        "outputId": "e808f626-33db-4a7f-8210-753f5360c7e2"
      },
      "execution_count": null,
      "outputs": [
        {
          "output_type": "stream",
          "name": "stdout",
          "text": [
            "Fazendo predições no conjunto de teste...\n",
            "\u001b[1m4/4\u001b[0m \u001b[32m━━━━━━━━━━━━━━━━━━━━\u001b[0m\u001b[37m\u001b[0m \u001b[1m5s\u001b[0m 752ms/step\n",
            "Predições feitas em 121 amostras.\n"
          ]
        }
      ]
    },
    {
      "cell_type": "markdown",
      "source": [
        "### Convertendo os resultados em classes binárias com o threshold"
      ],
      "metadata": {
        "id": "HiOBCRCmEUjM"
      }
    },
    {
      "cell_type": "code",
      "source": [
        "test_labels = test_generator.classes # Obtém os resultados verdadeiros. Ou seja, os rótulos originais, ou resultados desejados\n",
        "predicted_classes = (test_predictions > THRESHOLD).astype(int) # Converte os resultados do modelo em 0 e 1 baseado no threshold\n",
        "predicted_classes = predicted_classes.reshape(-1) # Remove uma dimensão, pois o resultado do modelo é uma matriz de uma coluna e queremos um vetor\n",
        "\n",
        "print(f\"Rótulos verdadeiros: {test_labels}\")\n",
        "print(f\"Predições: {predicted_classes}\")"
      ],
      "metadata": {
        "colab": {
          "base_uri": "https://localhost:8080/"
        },
        "id": "MH91T7C9EfA8",
        "outputId": "0a52f6ed-c878-4813-fb44-f0223d53c027"
      },
      "execution_count": null,
      "outputs": [
        {
          "output_type": "stream",
          "name": "stdout",
          "text": [
            "Rótulos verdadeiros: [0 0 0 0 0 0 0 0 0 0 0 0 0 0 0 0 0 0 0 0 0 0 0 0 0 0 0 0 0 0 0 0 0 0 0 0 0\n",
            " 0 0 0 0 0 0 0 0 0 0 0 0 0 0 0 0 0 0 0 0 0 0 0 0 1 1 1 1 1 1 1 1 1 1 1 1 1\n",
            " 1 1 1 1 1 1 1 1 1 1 1 1 1 1 1 1 1 1 1 1 1 1 1 1 1 1 1 1 1 1 1 1 1 1 1 1 1\n",
            " 1 1 1 1 1 1 1 1 1 1]\n",
            "Predições: [0 0 0 0 0 0 0 1 0 0 0 0 0 0 0 0 0 0 0 0 0 0 0 0 0 0 0 1 0 0 0 0 0 0 0 0 0\n",
            " 0 0 0 0 0 0 0 0 0 0 0 0 0 1 0 0 0 0 0 0 0 0 0 0 1 1 1 1 1 1 1 1 1 1 1 1 1\n",
            " 1 1 1 1 1 1 1 1 1 1 1 1 1 1 0 1 1 1 1 1 1 1 1 1 1 1 1 1 1 1 1 1 1 1 1 1 0\n",
            " 1 1 1 1 1 1 1 1 0 1]\n"
          ]
        }
      ]
    },
    {
      "cell_type": "markdown",
      "source": [
        "### Exibindo os resultados"
      ],
      "metadata": {
        "id": "u6Eb8ucfGra0"
      }
    },
    {
      "cell_type": "markdown",
      "source": [
        "#### Matriz de confusão"
      ],
      "metadata": {
        "id": "wPeATYnDGtJp"
      }
    },
    {
      "cell_type": "code",
      "source": [
        "cm = confusion_matrix(test_labels, predicted_classes) # Cria a matriz\n",
        "\n",
        "# Plotar a matriz\n",
        "plt.figure(figsize=(10,8))\n",
        "\n",
        "sns.heatmap(\n",
        "    cm,\n",
        "    annot = True, # plotar os valores\n",
        "    fmt = 'd', # Formato inteiro\n",
        "    cmap = 'Blues',  # Mapa de cores a ser usado, no caso, azul\n",
        "    xticklabels = ['Cataract', 'Normal'], # Labels X\n",
        "    yticklabels = ['Cataract', 'Normal'], # Labels Y\n",
        "    cbar_kws = {'label': 'Quantidade'} # legenda da barra de cores\n",
        ")\n",
        "\n",
        "plt.title(\"Matriz de Confusão\")\n",
        "plt.xlabel(\"Predição\", fontsize = 12)\n",
        "plt.ylabel(\"Verdadeiro\", fontsize = 12)\n",
        "\n",
        "# Adicionando texto explicativo\n",
        "plt.figtext(\n",
        "    0.02,\n",
        "    0.02,\n",
        "    'Legenda:\\n'\n",
        "    'Cataract = 0 (Positivo)\\n'\n",
        "    'Normal = 1 (Negativo)\\n'\n",
        "    'Diagonal principal = Acertos\\n'\n",
        "    'Fora da diagonal = Erros',\n",
        "    fontsize = 9,\n",
        "    style = 'italic'\n",
        ")\n",
        "\n",
        "plt.tight_layout()\n",
        "plt.show()\n",
        "\n",
        "tp, fn, fp, tn = cm.ravel() # desempacota a matriz de confusão nas variáveis\n",
        "\n",
        "print(f\"• Verdadeiros Positivos (TP): {tp} - Cataratas detectadas corretamente\")\n",
        "print(f\"• Verdadeiros Negativos (TN): {tn} - Normais detectados corretamente\")\n",
        "print(f\"• Falsos Positivos (FP): {fp} - Normais classificados como catarata\")\n",
        "print(f\"• Falsos Negativos (FN): {fn} - Cataratas perdidas (CRÍTICO!)\")"
      ],
      "metadata": {
        "colab": {
          "base_uri": "https://localhost:8080/",
          "height": 878
        },
        "id": "egs1A4utGu7b",
        "outputId": "2ed554ad-8924-4c85-da03-69bb57477c07"
      },
      "execution_count": null,
      "outputs": [
        {
          "output_type": "display_data",
          "data": {
            "text/plain": [
              "<Figure size 1000x800 with 2 Axes>"
            ],
            "image/png": "[encoded data removed]"
          },
          "metadata": {}
        },
        {
          "output_type": "stream",
          "name": "stdout",
          "text": [
            "• Verdadeiros Positivos (TP): 58 - Cataratas detectadas corretamente\n",
            "• Verdadeiros Negativos (TN): 57 - Normais detectados corretamente\n",
            "• Falsos Positivos (FP): 3 - Normais classificados como catarata\n",
            "• Falsos Negativos (FN): 3 - Cataratas perdidas (CRÍTICO!)\n"
          ]
        }
      ]
    },
    {
      "cell_type": "markdown",
      "source": [
        "#### Métricas de avaliação gerais"
      ],
      "metadata": {
        "id": "JA-CnNKsJiVI"
      }
    },
    {
      "cell_type": "code",
      "source": [
        "accuracy = accuracy_score(test_labels, predicted_classes) # Acurácia\n",
        "precision = precision_score(test_labels, predicted_classes, pos_label = POSITIVE_LABEL) # Precisão\n",
        "recall = recall_score(test_labels, predicted_classes, pos_label = POSITIVE_LABEL) # Recall\n",
        "f1 = f1_score(test_labels, predicted_classes, pos_label = POSITIVE_LABEL) # F1 Score\n",
        "\n",
        "print(\"METRICAS DE AVALIAÇÃO DO MODELO NO GERAL\\n\")\n",
        "print(f\"Recall: {recall}\")\n",
        "print(f\"Acurácia: {accuracy}\")\n",
        "print(f\"Precisão: {precision}\")\n",
        "print(f\"F1 Score: {f1}\")"
      ],
      "metadata": {
        "colab": {
          "base_uri": "https://localhost:8080/"
        },
        "id": "RHtgCtuRJmSw",
        "outputId": "602465d3-c8f9-4324-8d9d-8af4629e5dad"
      },
      "execution_count": null,
      "outputs": [
        {
          "output_type": "stream",
          "name": "stdout",
          "text": [
            "METRICAS DE AVALIAÇÃO DO MODELO NO GERAL\n",
            "\n",
            "Recall: 0.9508196721311475\n",
            "Acurácia: 0.9504132231404959\n",
            "Precisão: 0.9508196721311475\n",
            "F1 Score: 0.9508196721311475\n"
          ]
        }
      ]
    },
    {
      "cell_type": "markdown",
      "source": [
        "#### Métricas de avaliação por classe"
      ],
      "metadata": {
        "id": "XA8KYcoEKpi9"
      }
    },
    {
      "cell_type": "code",
      "source": [
        "print(\"METRICAS DE AVALIAÇÃO DO MODELO NO GERAL\\n\")\n",
        "print(classification_report(test_labels, predicted_classes))\n",
        "\n",
        "# Adicionar a curva do treino no gráfico."
      ],
      "metadata": {
        "colab": {
          "base_uri": "https://localhost:8080/"
        },
        "id": "wgzSHDRgKv2y",
        "outputId": "8cb08e42-8fd4-4d32-d35c-45763b22696b"
      },
      "execution_count": null,
      "outputs": [
        {
          "output_type": "stream",
          "name": "stdout",
          "text": [
            "METRICAS DE AVALIAÇÃO DO MODELO NO GERAL\n",
            "\n",
            "              precision    recall  f1-score   support\n",
            "\n",
            "           0       0.95      0.95      0.95        61\n",
            "           1       0.95      0.95      0.95        60\n",
            "\n",
            "    accuracy                           0.95       121\n",
            "   macro avg       0.95      0.95      0.95       121\n",
            "weighted avg       0.95      0.95      0.95       121\n",
            "\n"
          ]
        }
      ]
    }
  ]
}